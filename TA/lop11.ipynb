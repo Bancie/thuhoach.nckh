{
 "cells": [
  {
   "cell_type": "markdown",
   "metadata": {},
   "source": [
    "# Toán 11"
   ]
  },
  {
   "cell_type": "markdown",
   "metadata": {},
   "source": [
    "## Giải tích"
   ]
  },
  {
   "cell_type": "markdown",
   "metadata": {},
   "source": [
    "### Logarit"
   ]
  },
  {
   "cell_type": "markdown",
   "metadata": {},
   "source": [
    "- $\\alpha = \\log _a b \\Leftrightarrow a^{\\alpha} = b$\n",
    "- $\\log _a 1 = 0$\n",
    "- $\\log _a a = 1$\n",
    "- $\\log _a a^b = b$\n",
    "- $a^{\\log _a b} = b$\n",
    "- $\\log _a (MN) = \\log _a M + \\log _a N$\n",
    "- $\\log _a \\frac{M}{N} = \\log _a M - \\log _a N$\n",
    "- $\\log _a M^{\\alpha} = \\alpha \\log _a M \\quad (\\alpha \\in \\mathbb{R})$\n",
    "- $\\log _a N = \\frac{\\log _b N}{\\log _b a} \\quad a, b, N >0; a, b \\neq 1$\n",
    "- $\\log _a N = \\frac{1}{\\log _N a} \\quad (N \\neq 1)$\n",
    "- $\\log _{a^{\\alpha}} N = \\frac{1}{\\alpha} \\log _a N \\quad (\\alpha \\neq 0)$"
   ]
  },
  {
   "cell_type": "markdown",
   "metadata": {},
   "source": [
    "## Hình học"
   ]
  },
  {
   "cell_type": "markdown",
   "metadata": {},
   "source": [
    "### Đường vuông góc mặt"
   ]
  },
  {
   "cell_type": "markdown",
   "metadata": {},
   "source": [
    "| DL | VT || VP |\n",
    "|:------:|------|:------:|------|\n",
    "|1| $d \\bot a$ <br/> $d \\bot b$ <br/> $a \\cap b = M \\text{ in } (\\alpha )$ | $\\Rightarrow$ | $d \\bot (\\alpha )$ |\n",
    "|2| $a // b$ <br/> $a \\bot (P)$ | $\\Rightarrow$ | $b \\bot (P)$ |\n",
    "|3| $a \\bot (P)$ <br/> $b \\bot (P)$ <br/> $a \\not\\equiv b$ | $\\Rightarrow$ | $a // b$ |\n",
    "|4| $(P) // (Q)$ <br/> $a \\bot (P)$ | $\\Rightarrow$ | $a \\bot (Q)$ |\n",
    "|5| $a \\bot (P)$ <br/> $a \\bot (Q)$ <br/> $(P) \\not\\equiv (Q)$ | $\\Rightarrow$ | $(P) // (Q)$ |\n",
    "|6| $a // (P) \\: \\lor a \\subset (P)$ <br/> $b \\bot (P)$ | $\\Rightarrow$ | $b \\bot a$ |\n",
    "|7| $a \\bot b$ <br/> $b \\bot (P)$ <br/> $a \\not\\subset (P)$ | $\\Rightarrow$ | $a // (P)$ |"
   ]
  },
  {
   "cell_type": "markdown",
   "metadata": {},
   "source": [
    "| DK | VT || VP |\n",
    "|------|------|:------:|------|\n",
    "| $a \\neg \\bot (P)$ <br/> $a' \\text{ hchieu } a \\text{ on } (P)$ <br/> $b \\subset (P)$ | $a \\bot b$ | $\\Leftrightarrow$ | $a' \\bot b$ |"
   ]
  },
  {
   "cell_type": "markdown",
   "metadata": {},
   "source": [
    "## S tam giác"
   ]
  },
  {
   "cell_type": "markdown",
   "metadata": {},
   "source": [
    "$S = \\frac{1}{2} \\times a \\times b \\times \\sin (C)$\n"
   ]
  },
  {
   "cell_type": "markdown",
   "metadata": {},
   "source": [
    "### Công thức Heron\n",
    "$S = \\sqrt{p(p-a)(p-b)(p-c)}$\n",
    "\n",
    "$p = \\frac{a+b+c}{2}$"
   ]
  },
  {
   "cell_type": "markdown",
   "metadata": {},
   "source": [
    "### Đều\n",
    "$S = \\frac{\\sqrt{3}}{4} \\times a^2$"
   ]
  }
 ],
 "metadata": {
  "language_info": {
   "name": "python"
  }
 },
 "nbformat": 4,
 "nbformat_minor": 2
}
