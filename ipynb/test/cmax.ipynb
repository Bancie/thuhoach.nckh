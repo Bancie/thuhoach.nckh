{
 "cells": [
  {
   "cell_type": "code",
   "execution_count": 1,
   "metadata": {},
   "outputs": [
    {
     "name": "stdout",
     "output_type": "stream",
     "text": [
      "Requirement already satisfied: tilearn in /Users/chibangnguyen/Documents/thuhoach.nckh/venv/lib/python3.12/site-packages (1.0.0)\n",
      "Note: you may need to restart the kernel to use updated packages.\n"
     ]
    }
   ],
   "source": [
    "%pip install tilearn\n",
    "import tilearn as tl"
   ]
  },
  {
   "cell_type": "markdown",
   "metadata": {},
   "source": [
    "# 1--"
   ]
  },
  {
   "cell_type": "markdown",
   "metadata": {},
   "source": [
    "$r_{j_{k+1}} = 3$\n",
    "\n",
    "$\\underset{l \\in J}{\\min} (\\underset{l \\in J}{\\max} (t, r_l) + p_l) = 9$\n",
    "\n",
    "ok"
   ]
  },
  {
   "cell_type": "code",
   "execution_count": 2,
   "metadata": {},
   "outputs": [],
   "source": [
    "a1 = [\n",
    "    [1, 3, 3, 8, 1],\n",
    "    [3, 4, 5, 11, 1],\n",
    "    [2, 2, 7, 12, 1],\n",
    "]"
   ]
  },
  {
   "cell_type": "code",
   "execution_count": 3,
   "metadata": {},
   "outputs": [
    {
     "name": "stdout",
     "output_type": "stream",
     "text": [
      "[1, 3, 3, 8, 1, 3, -5]\n",
      "[3, 4, 5, 11, 1, 7, -4]\n",
      "[2, 2, 7, 12, 1, 9, -3]\n"
     ]
    }
   ],
   "source": [
    "data = tl.lateness(tl.c_time(a1))\n",
    "for row in data:\n",
    "    print(row)"
   ]
  },
  {
   "cell_type": "markdown",
   "metadata": {},
   "source": [
    "Lower bound = 12"
   ]
  },
  {
   "cell_type": "markdown",
   "metadata": {},
   "source": [
    "## 123"
   ]
  },
  {
   "cell_type": "code",
   "execution_count": 10,
   "metadata": {},
   "outputs": [],
   "source": [
    "a123 = [\n",
    "    [1, 3, 3, 8, 1],\n",
    "    [2, 2, 7, 12, 1],\n",
    "    [3, 4, 5, 11, 1],\n",
    "]"
   ]
  },
  {
   "cell_type": "code",
   "execution_count": 11,
   "metadata": {},
   "outputs": [
    {
     "name": "stdout",
     "output_type": "stream",
     "text": [
      "[1, 3, 3, 8, 1, 3, -5]\n",
      "[2, 2, 7, 12, 1, 5, -7]\n",
      "[3, 4, 5, 11, 1, 9, -2]\n"
     ]
    }
   ],
   "source": [
    "data = tl.lateness(tl.c_time(a123))\n",
    "for row in data:\n",
    "    print(row)"
   ]
  },
  {
   "cell_type": "markdown",
   "metadata": {},
   "source": [
    "Lower bound = 13"
   ]
  },
  {
   "cell_type": "markdown",
   "metadata": {},
   "source": [
    "## 132"
   ]
  },
  {
   "cell_type": "markdown",
   "metadata": {},
   "source": [
    "**Lower bound = 12**"
   ]
  },
  {
   "cell_type": "markdown",
   "metadata": {},
   "source": [
    "# 2--"
   ]
  },
  {
   "cell_type": "markdown",
   "metadata": {},
   "source": [
    "$r_{j_{k+1}} = 7$\n",
    "\n",
    "$\\underset{l \\in J}{\\min} (\\underset{l \\in J}{\\max} (t, r_l) + p_l) = 6$\n",
    "\n",
    "skip"
   ]
  },
  {
   "cell_type": "code",
   "execution_count": null,
   "metadata": {},
   "outputs": [],
   "source": [
    "a2 = [\n",
    "    [2, 2, 7, 12, 1],\n",
    "    [1, 3, 3, 8, 1],\n",
    "    [3, 4, 5, 11, 1],\n",
    "]"
   ]
  },
  {
   "cell_type": "markdown",
   "metadata": {},
   "source": [
    "# 3--"
   ]
  },
  {
   "cell_type": "markdown",
   "metadata": {},
   "source": [
    "$r_{j_{k+1}} = 5$\n",
    "\n",
    "$\\underset{l \\in J}{\\min} (\\underset{l \\in J}{\\max} (t, r_l) + p_l) = 6$\n",
    "\n",
    "ok"
   ]
  },
  {
   "cell_type": "code",
   "execution_count": 4,
   "metadata": {},
   "outputs": [],
   "source": [
    "a3 = [\n",
    "    [3, 4, 5, 11, 1],\n",
    "    [1, 3, 3, 8, 1],\n",
    "    [2, 2, 7, 12, 1],\n",
    "]"
   ]
  },
  {
   "cell_type": "code",
   "execution_count": 5,
   "metadata": {},
   "outputs": [
    {
     "name": "stdout",
     "output_type": "stream",
     "text": [
      "[3, 4, 5, 11, 1, 4, -7]\n",
      "[1, 3, 3, 8, 1, 7, -1]\n",
      "[2, 2, 7, 12, 1, 9, -3]\n"
     ]
    }
   ],
   "source": [
    "data = tl.lateness(tl.c_time(a3))\n",
    "for row in data:\n",
    "    print(row)"
   ]
  },
  {
   "cell_type": "markdown",
   "metadata": {},
   "source": [
    "Lower bound = 14"
   ]
  }
 ],
 "metadata": {
  "kernelspec": {
   "display_name": "venv",
   "language": "python",
   "name": "python3"
  },
  "language_info": {
   "codemirror_mode": {
    "name": "ipython",
    "version": 3
   },
   "file_extension": ".py",
   "mimetype": "text/x-python",
   "name": "python",
   "nbconvert_exporter": "python",
   "pygments_lexer": "ipython3",
   "version": "3.12.5"
  }
 },
 "nbformat": 4,
 "nbformat_minor": 2
}
