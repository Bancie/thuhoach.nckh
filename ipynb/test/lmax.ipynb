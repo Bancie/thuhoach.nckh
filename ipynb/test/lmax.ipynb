{
 "cells": [
  {
   "cell_type": "code",
   "execution_count": 3,
   "metadata": {},
   "outputs": [
    {
     "name": "stdout",
     "output_type": "stream",
     "text": [
      "Requirement already satisfied: tilearn in /Users/chibangnguyen/Documents/thuhoach.nckh/venv/lib/python3.12/site-packages (1.0.0)\n",
      "Note: you may need to restart the kernel to use updated packages.\n"
     ]
    }
   ],
   "source": [
    "%pip install tilearn\n",
    "import tilearn as tl"
   ]
  },
  {
   "cell_type": "markdown",
   "metadata": {},
   "source": [
    "# 1---"
   ]
  },
  {
   "cell_type": "markdown",
   "metadata": {},
   "source": [
    "$r_{j_{k+1}} = 0$\n",
    "\n",
    "$\\underset{l \\in J}{\\min} (\\underset{l \\in J}{\\max} (t, r_l) + p_l) = 3$\n",
    "\n",
    "ok"
   ]
  },
  {
   "cell_type": "code",
   "execution_count": 109,
   "metadata": {},
   "outputs": [],
   "source": [
    "a1 = [\n",
    "    [1, 4, 0, 8, 1],\n",
    "    [4, 5, 5, 10, 1],\n",
    "    [3, 6, 3, 11, 1],\n",
    "    [2, 2, 1, 12, 1],\n",
    "]"
   ]
  },
  {
   "cell_type": "code",
   "execution_count": 110,
   "metadata": {},
   "outputs": [
    {
     "name": "stdout",
     "output_type": "stream",
     "text": [
      "[1, 4, 0, 8, 1, 4, -4]\n",
      "[4, 5, 5, 10, 1, 9, -1]\n",
      "[3, 6, 3, 11, 1, 15, 4]\n",
      "[2, 2, 1, 12, 1, 17, 5]\n"
     ]
    }
   ],
   "source": [
    "data = tl.lateness(tl.c_time(a1))\n",
    "for row in data:\n",
    "    print(row)"
   ]
  },
  {
   "cell_type": "markdown",
   "metadata": {},
   "source": [
    "**Lower bound = 5**"
   ]
  },
  {
   "cell_type": "markdown",
   "metadata": {},
   "source": [
    "## 12--"
   ]
  },
  {
   "cell_type": "markdown",
   "metadata": {},
   "source": [
    "$r_{j_{k+1}} = 1$\n",
    "\n",
    "$t = 4$\n",
    "\n",
    "$\\underset{l \\in J}{\\min} (\\underset{l \\in J}{\\max} (t, r_l) + p_l) = 10$\n",
    "\n",
    "ok"
   ]
  },
  {
   "cell_type": "code",
   "execution_count": 115,
   "metadata": {},
   "outputs": [],
   "source": [
    "a12 = [\n",
    "    [1, 4, 0, 8, 1],\n",
    "    [2, 2, 1, 12, 1],\n",
    "    [4, 5, 5, 10, 1],\n",
    "    [3, 6, 3, 11, 1],\n",
    "]"
   ]
  },
  {
   "cell_type": "code",
   "execution_count": 116,
   "metadata": {},
   "outputs": [
    {
     "name": "stdout",
     "output_type": "stream",
     "text": [
      "[1, 4, 0, 8, 1, 4, -4]\n",
      "[2, 2, 1, 12, 1, 6, -6]\n",
      "[4, 5, 5, 10, 1, 11, 1]\n",
      "[3, 6, 3, 11, 1, 17, 6]\n"
     ]
    }
   ],
   "source": [
    "data = tl.lateness(tl.c_time(a12))\n",
    "for row in data:\n",
    "    print(row)"
   ]
  },
  {
   "cell_type": "markdown",
   "metadata": {},
   "source": [
    "Lower bound = 6"
   ]
  },
  {
   "cell_type": "markdown",
   "metadata": {},
   "source": [
    "## 13--"
   ]
  },
  {
   "cell_type": "markdown",
   "metadata": {},
   "source": [
    "$r_{j_{k+1}} = 3$\n",
    "\n",
    "$t = 4$\n",
    "\n",
    "$\\underset{l \\in J}{\\min} (\\underset{l \\in J}{\\max} (t, r_l) + p_l) = 6$\n",
    "\n",
    "ok"
   ]
  },
  {
   "cell_type": "code",
   "execution_count": 128,
   "metadata": {},
   "outputs": [],
   "source": [
    "a13 = [\n",
    "    [1, 4, 0, 8, 1],\n",
    "    [3, 6, 3, 11, 1],\n",
    "    [4, 5, 5, 10, 1],\n",
    "    [2, 2, 1, 12, 1],\n",
    "]"
   ]
  },
  {
   "cell_type": "code",
   "execution_count": 129,
   "metadata": {},
   "outputs": [
    {
     "name": "stdout",
     "output_type": "stream",
     "text": [
      "[1, 4, 0, 8, 1, 4, -4]\n",
      "[3, 6, 3, 11, 1, 10, -1]\n",
      "[4, 5, 5, 10, 1, 15, 5]\n",
      "[2, 2, 1, 12, 1, 17, 5]\n"
     ]
    }
   ],
   "source": [
    "data = tl.lateness(tl.c_time(a13))\n",
    "for row in data:\n",
    "    print(row)"
   ]
  },
  {
   "cell_type": "markdown",
   "metadata": {},
   "source": [
    "Lower bound = 5"
   ]
  },
  {
   "cell_type": "markdown",
   "metadata": {},
   "source": [
    "### 1324"
   ]
  },
  {
   "cell_type": "code",
   "execution_count": 132,
   "metadata": {},
   "outputs": [],
   "source": [
    "a1324 = [\n",
    "    [1, 4, 0, 8, 1],\n",
    "    [3, 6, 3, 11, 1],\n",
    "    [2, 2, 1, 12, 1],\n",
    "    [4, 5, 5, 10, 1],\n",
    "]"
   ]
  },
  {
   "cell_type": "code",
   "execution_count": 133,
   "metadata": {},
   "outputs": [
    {
     "name": "stdout",
     "output_type": "stream",
     "text": [
      "[1, 4, 0, 8, 1, 4, -4]\n",
      "[3, 6, 3, 11, 1, 10, -1]\n",
      "[2, 2, 1, 12, 1, 12, 0]\n",
      "[4, 5, 5, 10, 1, 17, 7]\n"
     ]
    }
   ],
   "source": [
    "data = tl.lateness(tl.c_time(a1324))\n",
    "for row in data:\n",
    "    print(row)"
   ]
  },
  {
   "cell_type": "markdown",
   "metadata": {},
   "source": [
    "Lower bound = 7"
   ]
  },
  {
   "cell_type": "markdown",
   "metadata": {},
   "source": [
    "### 1342"
   ]
  },
  {
   "cell_type": "code",
   "execution_count": 134,
   "metadata": {},
   "outputs": [],
   "source": [
    "a1342 = [\n",
    "    [1, 4, 0, 8, 1],\n",
    "    [3, 6, 3, 11, 1],\n",
    "    [4, 5, 5, 10, 1],\n",
    "    [2, 2, 1, 12, 1],\n",
    "]"
   ]
  },
  {
   "cell_type": "code",
   "execution_count": 135,
   "metadata": {},
   "outputs": [
    {
     "name": "stdout",
     "output_type": "stream",
     "text": [
      "[1, 4, 0, 8, 1, 4, -4]\n",
      "[3, 6, 3, 11, 1, 10, -1]\n",
      "[4, 5, 5, 10, 1, 15, 5]\n",
      "[2, 2, 1, 12, 1, 17, 5]\n"
     ]
    }
   ],
   "source": [
    "data = tl.lateness(tl.c_time(a1342))\n",
    "for row in data:\n",
    "    print(row)"
   ]
  },
  {
   "cell_type": "markdown",
   "metadata": {},
   "source": [
    "**Lower bound = 5**\n",
    "\n",
    "**$C_{\\max} = 17$**"
   ]
  },
  {
   "cell_type": "markdown",
   "metadata": {},
   "source": [
    "## 14--"
   ]
  },
  {
   "cell_type": "markdown",
   "metadata": {},
   "source": [
    "$r_{j_{k+1}} = 5$\n",
    "\n",
    "$t=4$\n",
    "\n",
    "$\\underset{l \\in J}{\\min} (\\underset{l \\in J}{\\max} (t, r_l) + p_l) = 6$\n",
    "\n",
    "ok"
   ]
  },
  {
   "cell_type": "code",
   "execution_count": null,
   "metadata": {},
   "outputs": [],
   "source": [
    "a14 = [\n",
    "    [1, 4, 0, 8, 1],\n",
    "    [4, 5, 5, 10, 1],\n",
    "    [3, 6, 3, 11, 1],\n",
    "    [2, 2, 1, 12, 1],\n",
    "]"
   ]
  },
  {
   "cell_type": "markdown",
   "metadata": {},
   "source": [
    "Lower bound = 5"
   ]
  },
  {
   "cell_type": "markdown",
   "metadata": {},
   "source": [
    "### 1432"
   ]
  },
  {
   "cell_type": "code",
   "execution_count": 137,
   "metadata": {},
   "outputs": [],
   "source": [
    "a1432 = [\n",
    "    [1, 4, 0, 8, 1],\n",
    "    [4, 5, 5, 10, 1],\n",
    "    [3, 6, 3, 11, 1],\n",
    "    [2, 2, 1, 12, 1],\n",
    "]"
   ]
  },
  {
   "cell_type": "code",
   "execution_count": 138,
   "metadata": {},
   "outputs": [
    {
     "name": "stdout",
     "output_type": "stream",
     "text": [
      "[1, 4, 0, 8, 1, 4, -4]\n",
      "[4, 5, 5, 10, 1, 9, -1]\n",
      "[3, 6, 3, 11, 1, 15, 4]\n",
      "[2, 2, 1, 12, 1, 17, 5]\n"
     ]
    }
   ],
   "source": [
    "data = tl.lateness(tl.c_time(a1432))\n",
    "for row in data:\n",
    "    print(row)"
   ]
  },
  {
   "cell_type": "markdown",
   "metadata": {},
   "source": [
    "Lower bound = 5\n",
    "\n",
    "$C_{\\max} = 18$"
   ]
  },
  {
   "cell_type": "markdown",
   "metadata": {},
   "source": [
    "### 1423"
   ]
  },
  {
   "cell_type": "code",
   "execution_count": 126,
   "metadata": {},
   "outputs": [],
   "source": [
    "a1423 = [\n",
    "    [1, 4, 0, 8, 1],\n",
    "    [4, 5, 5, 10, 1],\n",
    "    [2, 2, 1, 12, 1],\n",
    "    [3, 6, 3, 11, 1],\n",
    "]"
   ]
  },
  {
   "cell_type": "code",
   "execution_count": 127,
   "metadata": {},
   "outputs": [
    {
     "name": "stdout",
     "output_type": "stream",
     "text": [
      "[1, 4, 0, 8, 1, 4, -4]\n",
      "[4, 5, 5, 10, 1, 9, -1]\n",
      "[2, 2, 1, 12, 1, 11, -1]\n",
      "[3, 6, 3, 11, 1, 17, 6]\n"
     ]
    }
   ],
   "source": [
    "data = tl.lateness(tl.c_time(a1423))\n",
    "for row in data:\n",
    "    print(row)"
   ]
  },
  {
   "cell_type": "markdown",
   "metadata": {},
   "source": [
    "Lower bound = 6"
   ]
  },
  {
   "cell_type": "markdown",
   "metadata": {},
   "source": [
    "# 2---"
   ]
  },
  {
   "cell_type": "markdown",
   "metadata": {},
   "source": [
    "$r_{j_{k+1}} = 1$\n",
    "\n",
    "$\\underset{l \\in J}{\\min} (\\underset{l \\in J}{\\max} (t, r_l) + p_l) = 4$\n",
    "\n",
    "ok"
   ]
  },
  {
   "cell_type": "code",
   "execution_count": 111,
   "metadata": {},
   "outputs": [],
   "source": [
    "a2 = [\n",
    "    [2, 2, 1, 12, 1],\n",
    "    [1, 4, 0, 8, 1],\n",
    "    [4, 5, 5, 10, 1],\n",
    "    [3, 6, 3, 11, 1],\n",
    "]"
   ]
  },
  {
   "cell_type": "code",
   "execution_count": 112,
   "metadata": {},
   "outputs": [
    {
     "name": "stdout",
     "output_type": "stream",
     "text": [
      "[2, 2, 1, 12, 1, 2, -10]\n",
      "[1, 4, 0, 8, 1, 6, -2]\n",
      "[4, 5, 5, 10, 1, 11, 1]\n",
      "[3, 6, 3, 11, 1, 17, 6]\n"
     ]
    }
   ],
   "source": [
    "data = tl.lateness(tl.c_time(a2))\n",
    "for row in data:\n",
    "    print(row)"
   ]
  },
  {
   "cell_type": "markdown",
   "metadata": {},
   "source": [
    "Lower bound = 6"
   ]
  },
  {
   "cell_type": "markdown",
   "metadata": {},
   "source": [
    "# 3---"
   ]
  },
  {
   "cell_type": "markdown",
   "metadata": {},
   "source": [
    "$r_{j_{k+1}} = 3$\n",
    "\n",
    "$\\underset{l \\in J}{\\min} (\\underset{l \\in J}{\\max} (t, r_l) + p_l) = 3$\n",
    "\n",
    "skip"
   ]
  },
  {
   "cell_type": "code",
   "execution_count": null,
   "metadata": {},
   "outputs": [],
   "source": [
    "# 3---\n",
    "a3 = [\n",
    "    [3, 6, 3, 11, 1],\n",
    "    [2, 2, 1, 12, 1],\n",
    "    [1, 4, 0, 8, 1],\n",
    "    [4, 5, 5, 10, 1],\n",
    "]"
   ]
  },
  {
   "cell_type": "markdown",
   "metadata": {},
   "source": [
    "# 4---"
   ]
  },
  {
   "cell_type": "markdown",
   "metadata": {},
   "source": [
    "$r_{j_{k+1}} = 5$\n",
    "\n",
    "$\\underset{l \\in J}{\\min} (\\underset{l \\in J}{\\max} (t, r_l) + p_l) = 3$\n",
    "\n",
    "skip"
   ]
  },
  {
   "cell_type": "code",
   "execution_count": 107,
   "metadata": {},
   "outputs": [],
   "source": [
    "# 4---\n",
    "a4 = [\n",
    "    [4, 5, 5, 10, 1],\n",
    "    [3, 6, 3, 11, 1],\n",
    "    [2, 2, 1, 12, 1],\n",
    "    [1, 4, 0, 8, 1],\n",
    "]"
   ]
  }
 ],
 "metadata": {
  "kernelspec": {
   "display_name": "venv",
   "language": "python",
   "name": "python3"
  },
  "language_info": {
   "codemirror_mode": {
    "name": "ipython",
    "version": 3
   },
   "file_extension": ".py",
   "mimetype": "text/x-python",
   "name": "python",
   "nbconvert_exporter": "python",
   "pygments_lexer": "ipython3",
   "version": "3.12.5"
  }
 },
 "nbformat": 4,
 "nbformat_minor": 2
}
