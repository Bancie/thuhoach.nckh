{
 "cells": [
  {
   "cell_type": "markdown",
   "metadata": {},
   "source": [
    "# Bài thu hoạch số 2"
   ]
  },
  {
   "cell_type": "markdown",
   "metadata": {},
   "source": [
    "## Giới thiệu về thư viện TiLearn"
   ]
  },
  {
   "cell_type": "markdown",
   "metadata": {},
   "source": [
    "TiLearn `/taɪlɜrn/` là sự kết hợp của Time và Machine Learning, thư viện được em xây dựng với mục đích ban đầu hướng đến mục tiêu tự động hoá quá trình đánh giá trọng số cho công việc ($w_j$) bằng phương pháp học máy, do đó tên TiLearn được ra đời.\n",
    "\n",
    "Mã nguồn hiện em đã tải lên GitHub, thầy có thể xem qua ở đường link phía dưới ạ.\n",
    "\n",
    "Đường dẫn GitHub: [https://github.com/Bancie/TiLearn](https://github.com/Bancie/TiLearn)"
   ]
  },
  {
   "cell_type": "markdown",
   "metadata": {},
   "source": [
    "Thư viện cũng đã được công bố trên trang PyPI và có thể dễ dàng tải và sử dụng.\n",
    "\n",
    "Đường dẫn: [https://pypi.org/project/TiLearn/](https://pypi.org/project/TiLearn/)"
   ]
  },
  {
   "cell_type": "markdown",
   "metadata": {},
   "source": [
    "Bên cạnh đó, trang web API là trang web được em thiết kế nhằm tạo các tài liệu hướng dẫn cách sử dụng, cách chạy cũng như cách mà thư viện hoạt động.\n",
    "\n",
    "Đường dẫn: [https://bancie.github.io/TiLearn/](https://bancie.github.io/TiLearn/)"
   ]
  },
  {
   "cell_type": "markdown",
   "metadata": {},
   "source": [
    "Hiện thư viện đã hoàn thiện các tính năng sau:\n",
    "  - Hàm chạy thuật toán EDD.\n",
    "  - Hàm chạy thuật toán WSPT.\n",
    "  - Hàm giúp xử lý bài toán $1||\\sum C_j$.\n",
    "  - Hàm giúp xử lý bài toán $1||\\sum w_j C_j$.\n",
    "  - Hàm giúp xử lý bài toán $1|prec|\\sum C_j$.\n",
    "  - Hàm giúp xử lý bài toán $1|prec|\\sum w_j C_j$.\n",
    "  - Hàm giúp xử lý hỗn hợp 2 bài toán $1|prec|\\sum w_j C_j$ và $1||\\sum w_j C_j$."
   ]
  },
  {
   "cell_type": "markdown",
   "metadata": {},
   "source": [
    "Chi tiết hướng dẫn cách sử dụng, tham số, ý nghĩa từng tham số của từng hàm sẽ được em cập nhật trên trang [web document](https://bancie.github.io/TiLearn/)."
   ]
  },
  {
   "cell_type": "code",
   "execution_count": null,
   "metadata": {},
   "outputs": [],
   "source": [
    "%pip install tilearn"
   ]
  },
  {
   "cell_type": "markdown",
   "metadata": {},
   "source": [
    "## Chạy số liệu minh hoạ bằng TiLearn"
   ]
  },
  {
   "cell_type": "markdown",
   "metadata": {},
   "source": [
    "Giả sử ta cần xử lý 3 danh sách sau"
   ]
  },
  {
   "cell_type": "markdown",
   "metadata": {},
   "source": [
    "- Danh sách 1:"
   ]
  },
  {
   "cell_type": "markdown",
   "metadata": {},
   "source": [
    "| Name   | p  | r  | d   | w    |\n",
    "|--------|----|----|-----|------|\n",
    "| Job 1  | 4  | 0  | 100 | 0.65 |\n",
    "| Job 2  | 1  | 0  | 100 | 0.84 |\n",
    "| Job 3  | 3  | 0  | 100 | 0.46 |\n",
    "| Job 4  | 3  | 0  | 100 | 0.79 |\n",
    "| Job 5  | 1  | 0  | 100 | 0.17 |\n",
    "| Job 6  | 3  | 0  | 100 | 0.50 |\n",
    "| Job 7  | 4  | 0  | 100 | 0.95 |\n",
    "| Job 8  | 2  | 0  | 100 | 0.14 |\n",
    "| Job 9  | 5  | 0  | 100 | 0.52 |\n",
    "| Job 10 | 2  | 0  | 100 | 0.40 |\n",
    "| Job 11 | 4  | 0  | 100 | 0.55 |\n",
    "| Job 12 | 1  | 0  | 100 | 0.39 |\n",
    "| Job 13 | 2  | 0  | 100 | 0.57 |\n",
    "| Job 14 | 1  | 0  | 100 | 0.90 |\n",
    "| Job 15 | 1  | 0  | 100 | 0.22 |"
   ]
  },
  {
   "cell_type": "markdown",
   "metadata": {},
   "source": [
    "- Danh sách 2:"
   ]
  },
  {
   "cell_type": "markdown",
   "metadata": {},
   "source": [
    "| Name   | p  | r  | d   | w    |\n",
    "|--------|----|----|-----|------|\n",
    "| Job 16 | 4  | 0  | 100 | 0.70 |\n",
    "| Job 17 | 3  | 0  | 100 | 0.95 |\n",
    "| Job 18 | 4  | 0  | 100 | 0.49 |\n",
    "| Job 19 | 1  | 0  | 100 | 0.13 |\n",
    "| Job 20 | 5  | 0  | 100 | 0.94 |\n",
    "| Job 21 | 1  | 0  | 100 | 0.57 |\n",
    "| Job 22 | 4  | 0  | 100 | 0.79 |"
   ]
  },
  {
   "cell_type": "markdown",
   "metadata": {},
   "source": [
    "- Danh sách 3:"
   ]
  },
  {
   "cell_type": "markdown",
   "metadata": {},
   "source": [
    "| Name   | p  | r  | d   | w    |\n",
    "|--------|----|----|-----|------|\n",
    "| Job 23 | 4  | 0  | 100 | 0.24 |\n",
    "| Job 24 | 1  | 0  | 100 | 0.54 |\n",
    "| Job 25 | 2  | 0  | 100 | 0.81 |\n",
    "| Job 26 | 2  | 0  | 100 | 0.41 |\n",
    "| Job 27 | 5  | 0  | 100 | 0.22 |\n",
    "| Job 28 | 2  | 0  | 100 | 0.29 |\n",
    "| Job 29 | 5  | 0  | 100 | 0.65 |\n",
    "| Job 30 | 4  | 0  | 100 | 0.69 |"
   ]
  },
  {
   "cell_type": "markdown",
   "metadata": {},
   "source": [
    "Trong đó, danh sách 1 cách công việc độc lập và không tồn tại chuỗi, tức $1||\\sum w_j C_j$, danh sách 2 và 3 thuộc dạng $1|prec|\\sum w_j C_j$."
   ]
  },
  {
   "cell_type": "markdown",
   "metadata": {},
   "source": [
    "Ta gọi thư viện TiLearn như sau:"
   ]
  },
  {
   "cell_type": "code",
   "execution_count": 2,
   "metadata": {},
   "outputs": [],
   "source": [
    "import tilearn as tl\n",
    "from tilearn import _plat as pl"
   ]
  },
  {
   "cell_type": "markdown",
   "metadata": {},
   "source": [
    "Khai báo đường dẫn dữ liệu:"
   ]
  },
  {
   "cell_type": "code",
   "execution_count": 3,
   "metadata": {},
   "outputs": [],
   "source": [
    "original = '/Users/chibangnguyen/Documents/thuhoach.nckh/ipynb/thuhoach2/data'\n",
    "backup = '/Users/chibangnguyen/Documents/thuhoach.nckh/ipynb/thuhoach2/data/backup'\n",
    "list1 = '/Users/chibangnguyen/Documents/thuhoach.nckh/ipynb/thuhoach2/data/list1.csv'\n",
    "list2 = '/Users/chibangnguyen/Documents/thuhoach.nckh/ipynb/thuhoach2/data/list2.csv'\n",
    "list3 = '/Users/chibangnguyen/Documents/thuhoach.nckh/ipynb/thuhoach2/data/list3.csv'"
   ]
  },
  {
   "cell_type": "markdown",
   "metadata": {},
   "source": [
    "- Chọn dạng bài toán cho từng danh sách bằng cách chọn ``prec`` như sau:\n",
    "    - ``prec=0`` cho bài toán không đòi hỏi công việc tuần tự.\n",
    "    - ``prec=1`` cho bài toán đòi hỏi công việc có tuần tự."
   ]
  },
  {
   "cell_type": "code",
   "execution_count": 4,
   "metadata": {},
   "outputs": [],
   "source": [
    "lists = [\n",
    "    pl.List(file_path=list1, prec=0),\n",
    "    pl.List(file_path=list2, prec=1),\n",
    "    pl.List(file_path=list3, prec=1),\n",
    "]"
   ]
  },
  {
   "cell_type": "markdown",
   "metadata": {},
   "source": [
    "Ta chạy chương trình bằng lệnh sau:"
   ]
  },
  {
   "cell_type": "code",
   "execution_count": 5,
   "metadata": {},
   "outputs": [
    {
     "name": "stdout",
     "output_type": "stream",
     "text": [
      "[['Job 14', 1.0, 0, 100, 0.9, 0.9], ['Job 2', 1.0, 0, 100, 0.84, 0.84], ['Job 12', 1.0, 0, 100, 0.39, 0.39], ['Job 13', 2.0, 0, 100, 0.57, 0.285], ['Job 4', 3.0, 0, 100, 0.79, 0.26333333333333336], ['Job 7', 4.0, 0, 100, 0.95, 0.2375], ['Job 16', 4.0, 0, 100, 0.7, 0.175], ['Job 17', 3.0, 0, 100, 0.95, 0.2357142857142857], ['Job 23', 4.0, 0, 100, 0.24, 0.06], ['Job 24', 1.0, 0, 100, 0.54, 0.156], ['Job 25', 2.0, 0, 100, 0.81, 0.22714285714285715], ['Job 15', 1.0, 0, 100, 0.22, 0.22], ['Job 26', 2.0, 0, 100, 0.41, 0.205], ['Job 10', 2.0, 0, 100, 0.4, 0.2], ['Job 18', 4.0, 0, 100, 0.49, 0.1225], ['Job 19', 1.0, 0, 100, 0.13, 0.124], ['Job 20', 5.0, 0, 100, 0.94, 0.156], ['Job 21', 1.0, 0, 100, 0.57, 0.19363636363636363], ['Job 5', 1.0, 0, 100, 0.17, 0.17], ['Job 6', 3.0, 0, 100, 0.5, 0.16666666666666666], ['Job 1', 4.0, 0, 100, 0.65, 0.1625], ['Job 3', 3.0, 0, 100, 0.46, 0.15333333333333335], ['Job 11', 4.0, 0, 100, 0.55, 0.1375], ['Job 22', 4.0, 0, 100, 0.47, 0.1175], ['Job 27', 5.0, 0, 100, 0.22, 0.044], ['Job 28', 2.0, 0, 100, 0.29, 0.07285714285714286], ['Job 29', 5.0, 0, 100, 0.65, 0.09666666666666668], ['Job 30', 4.0, 0, 100, 0.69, 0.115625], ['Job 9', 5.0, 0, 100, 0.52, 0.10400000000000001], ['Job 8', 2.0, 0, 100, 0.14, 0.07]]\n"
     ]
    }
   ],
   "source": [
    "schedule = tl.optimal_list(lists, original, backup)\n",
    "print(schedule)"
   ]
  },
  {
   "cell_type": "markdown",
   "metadata": {},
   "source": [
    "Để giúp danh sách dễ quan sát, ta có thể dùng lệnh sau: "
   ]
  },
  {
   "cell_type": "code",
   "execution_count": 6,
   "metadata": {},
   "outputs": [
    {
     "name": "stdout",
     "output_type": "stream",
     "text": [
      "['Job 14', 1.0, 0, 100, 0.9, 0.9]\n",
      "['Job 2', 1.0, 0, 100, 0.84, 0.84]\n",
      "['Job 12', 1.0, 0, 100, 0.39, 0.39]\n",
      "['Job 13', 2.0, 0, 100, 0.57, 0.285]\n",
      "['Job 4', 3.0, 0, 100, 0.79, 0.26333333333333336]\n",
      "['Job 7', 4.0, 0, 100, 0.95, 0.2375]\n",
      "['Job 16', 4.0, 0, 100, 0.7, 0.175]\n",
      "['Job 17', 3.0, 0, 100, 0.95, 0.2357142857142857]\n",
      "['Job 23', 4.0, 0, 100, 0.24, 0.06]\n",
      "['Job 24', 1.0, 0, 100, 0.54, 0.156]\n",
      "['Job 25', 2.0, 0, 100, 0.81, 0.22714285714285715]\n",
      "['Job 15', 1.0, 0, 100, 0.22, 0.22]\n",
      "['Job 26', 2.0, 0, 100, 0.41, 0.205]\n",
      "['Job 10', 2.0, 0, 100, 0.4, 0.2]\n",
      "['Job 18', 4.0, 0, 100, 0.49, 0.1225]\n",
      "['Job 19', 1.0, 0, 100, 0.13, 0.124]\n",
      "['Job 20', 5.0, 0, 100, 0.94, 0.156]\n",
      "['Job 21', 1.0, 0, 100, 0.57, 0.19363636363636363]\n",
      "['Job 5', 1.0, 0, 100, 0.17, 0.17]\n",
      "['Job 6', 3.0, 0, 100, 0.5, 0.16666666666666666]\n",
      "['Job 1', 4.0, 0, 100, 0.65, 0.1625]\n",
      "['Job 3', 3.0, 0, 100, 0.46, 0.15333333333333335]\n",
      "['Job 11', 4.0, 0, 100, 0.55, 0.1375]\n",
      "['Job 22', 4.0, 0, 100, 0.47, 0.1175]\n",
      "['Job 27', 5.0, 0, 100, 0.22, 0.044]\n",
      "['Job 28', 2.0, 0, 100, 0.29, 0.07285714285714286]\n",
      "['Job 29', 5.0, 0, 100, 0.65, 0.09666666666666668]\n",
      "['Job 30', 4.0, 0, 100, 0.69, 0.115625]\n",
      "['Job 9', 5.0, 0, 100, 0.52, 0.10400000000000001]\n",
      "['Job 8', 2.0, 0, 100, 0.14, 0.07]\n"
     ]
    }
   ],
   "source": [
    "for row in tl.optimal_list(lists, original, backup):\n",
    "    print(row)"
   ]
  },
  {
   "cell_type": "markdown",
   "metadata": {},
   "source": [
    "## Lập kế hoạch gia công thiết kế bằng TiLearn"
   ]
  },
  {
   "cell_type": "markdown",
   "metadata": {},
   "source": [
    "### Giới thiệu về quy trình thiết kế"
   ]
  },
  {
   "cell_type": "markdown",
   "metadata": {},
   "source": [
    "Trong quá trình xử lý, studio thường phải đối mặt với việc phân bổ nguồn lực và điều chỉnh thiết kế cho nhiều dự án đồng thời, dựa trên sự ưu tiên của khách hàng, độ phức tạp của từng dự án và các yếu tố ngoại cảnh như thời gian thi công. Việc áp dụng các kỹ thuật lập lịch giúp quản lý dữ liệu và lập kế hoạch hiệu quả hơn, đồng thời theo dõi tiến độ và điều chỉnh khi cần thiết.\n",
    "\n",
    "Thông thường, một dự án thiết kế nội thất trải qua các giai đoạn chính sau:\n",
    "\n",
    "- Phát triển ý tưởng\n",
    "- Quy hoạch không gian\n",
    "- Phát triển thiết kế\n",
    "- Lựa chọn vật liệu\n",
    "- Tính toán chi phí\n",
    "- Xây dựng\n",
    "- Lắp đặt\n",
    "- Decor\n",
    "- Bàn giao\n",
    "\n",
    "Mỗi công đoạn cần được thực hiện theo thứ tự, với yêu cầu hoàn thành công việc trước khi bắt đầu bước tiếp theo. Do đó, bài toán có thể được mô hình hóa dưới dạng bài toán lập lịch $1|prec|\\sum w_j C_j$, trong đó các công việc phải tuân theo thứ tự ưu tiên và ràng buộc trước sau.\n",
    "\n",
    "Ngoài ra, studio còn phải thực hiện các công việc khảo sát hiện trạng cho nhiều dự án khác nhau, mà không yêu cầu tuân thủ tuần tự giữa các công việc. Trường hợp này có thể được mô hình hóa bằng bài toán $1||\\sum w_j C_j$, trong đó các công việc có thể hoàn thành theo thứ tự tự do."
   ]
  },
  {
   "cell_type": "markdown",
   "metadata": {},
   "source": [
    "Giả sử ta có danh sách 3 dự án A, B và C sau"
   ]
  },
  {
   "cell_type": "markdown",
   "metadata": {},
   "source": [
    "Dự án A:"
   ]
  },
  {
   "cell_type": "markdown",
   "metadata": {},
   "source": [
    "| Name                             | p  | r  | d   | w    |\n",
    "|---------------------------------- |----|----|-----|------|\n",
    "| Project A - Phát triển ý tưởng    | 4  | 0  | 200 | 0.85 |\n",
    "| Project A - Quy hoạch không gian  | 3  | 0  | 200 | 0.80 |\n",
    "| Project A - Phát triển thiết kế   | 5  | 0  | 200 | 0.75 |\n",
    "| Project A - Lựa chọn vật liệu     | 2  | 0  | 200 | 0.70 |\n",
    "| Project A - Tính toán chi phí     | 2  | 0  | 200 | 0.60 |\n",
    "| Project A - Xây dựng              | 10 | 0  | 200 | 0.95 |\n",
    "| Project A - Lắp đặt               | 4  | 0  | 200 | 0.70 |\n",
    "| Project A - Decor                 | 3  | 0  | 200 | 0.85 |\n",
    "| Project A - Bàn giao              | 1  | 0  | 200 | 1.00 |"
   ]
  },
  {
   "cell_type": "markdown",
   "metadata": {},
   "source": [
    "Dự án B:"
   ]
  },
  {
   "cell_type": "markdown",
   "metadata": {},
   "source": [
    "| Name                             | p  | r  | d   | w    |\n",
    "|---------------------------------- |----|----|-----|------|\n",
    "| Project B - Phát triển ý tưởng    | 8  | 0  | 200 | 0.85 |\n",
    "| Project B - Quy hoạch không gian  | 7  | 0  | 200 | 0.80 |\n",
    "| Project B - Phát triển thiết kế   | 20 | 0  | 200 | 0.95 |\n",
    "| Project B - Lựa chọn vật liệu     | 3  | 0  | 200 | 0.70 |\n",
    "| Project B - Tính toán chi phí     | 2  | 0  | 200 | 0.60 |\n",
    "| Project B - Xây dựng              | 40 | 0  | 200 | 0.95 |\n",
    "| Project B - Lắp đặt               | 15 | 0  | 200 | 0.70 |\n",
    "| Project B - Decor                 | 9  | 0  | 200 | 0.85 |\n",
    "| Project B - Bàn giao              | 1  | 0  | 200 | 1.00 |"
   ]
  },
  {
   "cell_type": "markdown",
   "metadata": {},
   "source": [
    "Dự án C:"
   ]
  },
  {
   "cell_type": "markdown",
   "metadata": {},
   "source": [
    "| Name                             | p  | r  | d   | w    |\n",
    "|---------------------------------- |----|----|-----|------|\n",
    "| Project C - Phát triển ý tưởng    | 5  | 0  | 200 | 0.85 |\n",
    "| Project C - Quy hoạch không gian  | 2  | 0  | 200 | 0.80 |\n",
    "| Project C - Phát triển thiết kế   | 4  | 0  | 200 | 0.75 |\n",
    "| Project C - Lựa chọn vật liệu     | 6  | 0  | 200 | 0.70 |\n",
    "| Project C - Tính toán chi phí     | 1  | 0  | 200 | 0.60 |\n",
    "| Project C - Xây dựng              | 15 | 0  | 200 | 0.95 |\n",
    "| Project C - Lắp đặt               | 4  | 0  | 200 | 0.70 |\n",
    "| Project C - Decor                 | 4  | 0  | 200 | 0.85 |\n",
    "| Project C - Bàn giao              | 1  | 0  | 200 | 1.00 |"
   ]
  },
  {
   "cell_type": "markdown",
   "metadata": {},
   "source": [
    "Danh sách địa điểm cần thực hiện khảo sát hiện trạng:"
   ]
  },
  {
   "cell_type": "markdown",
   "metadata": {},
   "source": [
    "| Name                     | p  | r  | d   | w    |\n",
    "|--------------------------|----|----|-----|------|\n",
    "| Khảo sát hiện trạng 1     | 2  | 0  | 200 | 0.33 |\n",
    "| Khảo sát hiện trạng 2     | 6  | 0  | 200 | 0.67 |\n",
    "| Khảo sát hiện trạng 3     | 5  | 0  | 200 | 0.45 |\n",
    "| Khảo sát hiện trạng 4     | 15 | 0  | 200 | 0.85 |\n",
    "| Khảo sát hiện trạng 5     | 4  | 0  | 200 | 0.10 |\n",
    "| Khảo sát hiện trạng 6     | 4  | 0  | 200 | 0.60 |\n",
    "| Khảo sát hiện trạng 7     | 20 | 0  | 200 | 0.70 |"
   ]
  },
  {
   "cell_type": "markdown",
   "metadata": {},
   "source": [
    "Khai báo đường dẫn dữ liệu:"
   ]
  },
  {
   "cell_type": "code",
   "execution_count": 7,
   "metadata": {},
   "outputs": [],
   "source": [
    "original_project = '/Users/chibangnguyen/Documents/thuhoach.nckh/ipynb/thuhoach2/interior_design_schedule'\n",
    "backup_project = '/Users/chibangnguyen/Documents/thuhoach.nckh/ipynb/thuhoach2/interior_design_schedule/backup'\n",
    "survey = '/Users/chibangnguyen/Documents/thuhoach.nckh/ipynb/thuhoach2/interior_design_schedule/Survey-Khảo sát.csv'\n",
    "project_A = '/Users/chibangnguyen/Documents/thuhoach.nckh/ipynb/thuhoach2/interior_design_schedule/Project A-Project A.csv'\n",
    "project_B = '/Users/chibangnguyen/Documents/thuhoach.nckh/ipynb/thuhoach2/interior_design_schedule/Project B-Project B.csv'\n",
    "project_C = '/Users/chibangnguyen/Documents/thuhoach.nckh/ipynb/thuhoach2/interior_design_schedule/Project C-Project C.csv'"
   ]
  },
  {
   "cell_type": "markdown",
   "metadata": {},
   "source": [
    "Danh sách khảo sát hiện trạng không đòi hỏi hoàn thành tuần tự, nhà thầu có thể khảo sát bất kỳ địa điểm nào trước, do đó danh sách khảo sát có ``prec=0``.\n",
    "\n",
    "Ở danh sách dự án A, B và C yêu cầu công việc nằm sau đòi hỏi các công việc trước đó phải được hoàn thành, do đó, danh sách dự án A, B và C lần lượt đều có ``prec=1``.\n",
    "\n",
    "Ta thiết lập danh sách như sau:"
   ]
  },
  {
   "cell_type": "code",
   "execution_count": 8,
   "metadata": {},
   "outputs": [],
   "source": [
    "lists_project = [\n",
    "    pl.List(file_path=survey, prec=0),\n",
    "    pl.List(file_path=project_A, prec=1),\n",
    "    pl.List(file_path=project_B, prec=1),\n",
    "    pl.List(file_path=project_C, prec=1),\n",
    "]"
   ]
  },
  {
   "cell_type": "markdown",
   "metadata": {},
   "source": [
    "Chạy chương trình:"
   ]
  },
  {
   "cell_type": "code",
   "execution_count": 9,
   "metadata": {},
   "outputs": [
    {
     "name": "stdout",
     "output_type": "stream",
     "text": [
      "['Project A - Phát triển ý tưởng', 4.0, 0, 200, 0.85, 0.2125]\n",
      "['Project A - Quy hoạch không gian', 3.0, 0, 200, 0.8, 0.2357142857142857]\n",
      "['Project C - Phát triển ý tưởng', 5.0, 0, 200, 0.85, 0.16999999999999998]\n",
      "['Project C - Quy hoạch không gian', 2.0, 0, 200, 0.8, 0.2357142857142857]\n",
      "['Project A - Phát triển thiết kế', 5.0, 0, 200, 0.75, 0.15]\n",
      "['Project A - Lựa chọn vật liệu', 2.0, 0, 200, 0.7, 0.20714285714285713]\n",
      "['Project A - Tính toán chi phí', 2.0, 0, 200, 0.6, 0.22777777777777775]\n",
      "['Project A - Xây dựng', 10.0, 0, 200, 0.95, 0.095]\n",
      "['Project A - Lắp đặt', 4.0, 0, 200, 0.7, 0.11785714285714285]\n",
      "['Project A - Decor', 3.0, 0, 200, 0.85, 0.14705882352941177]\n",
      "['Project A - Bàn giao', 1.0, 0, 200, 1.0, 0.19444444444444445]\n",
      "['Project C - Phát triển thiết kế', 4.0, 0, 200, 0.75, 0.1875]\n",
      "['Project C - Lựa chọn vật liệu', 6.0, 0, 200, 0.7, 0.11666666666666665]\n",
      "['Project C - Tính toán chi phí', 1.0, 0, 200, 0.6, 0.1857142857142857]\n",
      "['Khảo sát hiện trạng 1', 2.0, 0, 200, 0.33, 0.165]\n",
      "['Khảo sát hiện trạng 6', 4.0, 0, 200, 0.6, 0.15]\n",
      "['Project C - Xây dựng', 15.0, 0, 200, 0.95, 0.06333333333333332]\n",
      "['Project C - Lắp đặt', 4.0, 0, 200, 0.7, 0.08684210526315789]\n",
      "['Project C - Decor', 4.0, 0, 200, 0.85, 0.10869565217391304]\n",
      "['Project C - Bàn giao', 1.0, 0, 200, 1.0, 0.14583333333333334]\n",
      "['Khảo sát hiện trạng 2', 6.0, 0, 200, 0.67, 0.11166666666666668]\n",
      "['Project B - Phát triển ý tưởng', 8.0, 0, 200, 0.85, 0.10625]\n",
      "['Project B - Quy hoạch không gian', 7.0, 0, 200, 0.8, 0.11]\n",
      "['Khảo sát hiện trạng 3', 5.0, 0, 200, 0.45, 0.09]\n",
      "['Project B - Phát triển thiết kế', 20.0, 0, 200, 0.95, 0.0475]\n",
      "['Project B - Lựa chọn vật liệu', 3.0, 0, 200, 0.7, 0.07173913043478261]\n",
      "['Project B - Tính toán chi phí', 2.0, 0, 200, 0.6, 0.09]\n",
      "['Khảo sát hiện trạng 4', 15.0, 0, 200, 0.85, 0.056666666666666664]\n",
      "['Project B - Xây dựng', 40.0, 0, 200, 0.95, 0.02375]\n",
      "['Project B - Lắp đặt', 15.0, 0, 200, 0.7, 0.03]\n",
      "['Project B - Decor', 9.0, 0, 200, 0.85, 0.0390625]\n",
      "['Project B - Bàn giao', 1.0, 0, 200, 1.0, 0.05384615384615385]\n",
      "['Khảo sát hiện trạng 7', 20.0, 0, 200, 0.7, 0.034999999999999996]\n",
      "['Khảo sát hiện trạng 5', 4.0, 0, 200, 0.1, 0.025]\n"
     ]
    }
   ],
   "source": [
    "for row in tl.optimal_list(lists_project, original_project, backup_project):\n",
    "    print(row)"
   ]
  }
 ],
 "metadata": {
  "kernelspec": {
   "display_name": "Python 3 (ipykernel)",
   "language": "python",
   "name": "python3"
  },
  "language_info": {
   "codemirror_mode": {
    "name": "ipython",
    "version": 3
   },
   "file_extension": ".py",
   "mimetype": "text/x-python",
   "name": "python",
   "nbconvert_exporter": "python",
   "pygments_lexer": "ipython3",
   "version": "3.12.5"
  }
 },
 "nbformat": 4,
 "nbformat_minor": 4
}
