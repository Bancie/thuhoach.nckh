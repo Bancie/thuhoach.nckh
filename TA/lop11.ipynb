{
 "cells": [
  {
   "cell_type": "markdown",
   "metadata": {},
   "source": [
    "# Toán 11"
   ]
  },
  {
   "cell_type": "markdown",
   "metadata": {},
   "source": [
    "## Logarit"
   ]
  },
  {
   "cell_type": "markdown",
   "metadata": {},
   "source": [
    "- $\\alpha = \\log _a b \\Leftrightarrow a^{\\alpha} = b$\n",
    "- $\\log _a 1 = 0$\n",
    "- $\\log _a a = 1$\n",
    "- $\\log _a a^b = b$\n",
    "- $a^{\\log _a b} = b$\n",
    "- $\\log _a (MN) = \\log _a M + \\log _a N$\n",
    "- $\\log _a \\frac{M}{N} = \\log _a M - \\log _a N$\n",
    "- $\\log _a M^{\\alpha} = \\alpha \\log _a M \\quad (\\alpha \\in \\mathbb{R})$\n",
    "- $\\log _a N = \\frac{\\log _b N}{\\log _b a} \\quad a, b, N >0; a, b \\neq 1$\n",
    "- $\\log _a N = \\frac{1}{\\log _N a} \\quad (N \\neq 1)$\n",
    "- $\\log _{a^{\\alpha}} N = \\frac{1}{\\alpha} \\log _a N \\quad (\\alpha \\neq 0)$"
   ]
  }
 ],
 "metadata": {
  "language_info": {
   "name": "python"
  }
 },
 "nbformat": 4,
 "nbformat_minor": 2
}
