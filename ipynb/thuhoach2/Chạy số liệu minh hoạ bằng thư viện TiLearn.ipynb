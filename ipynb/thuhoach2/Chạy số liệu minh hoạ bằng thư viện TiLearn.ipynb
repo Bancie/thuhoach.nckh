{
 "cells": [
  {
   "cell_type": "markdown",
   "metadata": {},
   "source": [
    "# Giới thiệu về thư viện TiLearn"
   ]
  },
  {
   "cell_type": "markdown",
   "metadata": {},
   "source": [
    "TiLearn /taɪlɜrn/ là sự kết hợp của Time và Machine Learning, thư viện được xây dựng với mục đích ban đầu hướng đến mục tiêu tự động hoá quá trình đánh giá trọng số cho công việc ($w_j$) và cải thiện quá trình phân nhánh (Learning to Branch) bằng phương pháp học máy.\n",
    "\n",
    "Mã nguồn hiện đã được tải lên GitHub, xem đường dẫn bên dưới.\n",
    "\n",
    "Đường dẫn GitHub: [https://github.com/Bancie/TiLearn](https://github.com/Bancie/TiLearn)"
   ]
  },
  {
   "cell_type": "markdown",
   "metadata": {},
   "source": [
    "Thư viện cũng đã được công bố trên trang PyPI và có thể dễ dàng tải và sử dụng.\n",
    "\n",
    "Đường dẫn: [https://pypi.org/project/TiLearn/](https://pypi.org/project/TiLearn/)"
   ]
  },
  {
   "cell_type": "markdown",
   "metadata": {},
   "source": [
    "Bên cạnh đó, trang web document là trang web được thiết kế nhằm tạo các tài liệu hướng dẫn cách sử dụng, cách chạy cũng như cách thư viện hoạt động.\n",
    "\n",
    "Đường dẫn: [https://bancie.github.io/TiLearn/](https://bancie.github.io/TiLearn/)"
   ]
  },
  {
   "cell_type": "markdown",
   "metadata": {},
   "source": [
    "Hiện thư viện đã hoàn thiện các tính năng sau:\n",
    "- Hàm chạy thuật toán EDD.\n",
    "\n",
    "- Hàm chạy thuật toán WSPT.\n",
    "\n",
    "- Hàm giúp xử lý bài toán $1||\\sum C_j$.\n",
    "\n",
    "- Hàm giúp xử lý bài toán $1||\\sum w_j C_j$.\n",
    "\n",
    "- Hàm giúp xử lý bài toán $1|prec|\\sum C_j$.\n",
    "\n",
    "- Hàm giúp xử lý bài toán $1|prec|\\sum w_j C_j$.\n",
    "\n",
    "- Hàm giúp xử lý hỗn hợp 2 bài toán $1|prec|\\sum w_j C_j$ và $1||\\sum w_j C_j$."
   ]
  },
  {
   "cell_type": "markdown",
   "metadata": {},
   "source": [
    "Chi tiết hướng dẫn cách sử dụng, tham số, ý nghĩa từng tham số của từng hàm sẽ được cập nhật trên trang [document](https://bancie.github.io/TiLearn/)."
   ]
  },
  {
   "cell_type": "markdown",
   "metadata": {},
   "source": [
    "Để sử dụng thư viện, ta tải thư viện bằng lệnh sau"
   ]
  },
  {
   "cell_type": "code",
   "execution_count": 116,
   "metadata": {},
   "outputs": [
    {
     "name": "stdout",
     "output_type": "stream",
     "text": [
      "Requirement already satisfied: tilearn in /Users/chibangnguyen/Documents/thuhoach.nckh/venv/lib/python3.12/site-packages (1.0.0)\n",
      "Note: you may need to restart the kernel to use updated packages.\n",
      "Requirement already satisfied: pandas in /Users/chibangnguyen/Documents/thuhoach.nckh/venv/lib/python3.12/site-packages (2.2.3)\n",
      "Requirement already satisfied: numpy>=1.26.0 in /Users/chibangnguyen/Documents/thuhoach.nckh/venv/lib/python3.12/site-packages (from pandas) (2.1.1)\n",
      "Requirement already satisfied: python-dateutil>=2.8.2 in /Users/chibangnguyen/Documents/thuhoach.nckh/venv/lib/python3.12/site-packages (from pandas) (2.9.0.post0)\n",
      "Requirement already satisfied: pytz>=2020.1 in /Users/chibangnguyen/Documents/thuhoach.nckh/venv/lib/python3.12/site-packages (from pandas) (2024.2)\n",
      "Requirement already satisfied: tzdata>=2022.7 in /Users/chibangnguyen/Documents/thuhoach.nckh/venv/lib/python3.12/site-packages (from pandas) (2024.2)\n",
      "Requirement already satisfied: six>=1.5 in /Users/chibangnguyen/Documents/thuhoach.nckh/venv/lib/python3.12/site-packages (from python-dateutil>=2.8.2->pandas) (1.16.0)\n",
      "Note: you may need to restart the kernel to use updated packages.\n",
      "Requirement already satisfied: ipython in /Users/chibangnguyen/Documents/thuhoach.nckh/venv/lib/python3.12/site-packages (8.27.0)\n",
      "Requirement already satisfied: decorator in /Users/chibangnguyen/Documents/thuhoach.nckh/venv/lib/python3.12/site-packages (from ipython) (5.1.1)\n",
      "Requirement already satisfied: jedi>=0.16 in /Users/chibangnguyen/Documents/thuhoach.nckh/venv/lib/python3.12/site-packages (from ipython) (0.19.1)\n",
      "Requirement already satisfied: matplotlib-inline in /Users/chibangnguyen/Documents/thuhoach.nckh/venv/lib/python3.12/site-packages (from ipython) (0.1.7)\n",
      "Requirement already satisfied: prompt-toolkit<3.1.0,>=3.0.41 in /Users/chibangnguyen/Documents/thuhoach.nckh/venv/lib/python3.12/site-packages (from ipython) (3.0.47)\n",
      "Requirement already satisfied: pygments>=2.4.0 in /Users/chibangnguyen/Documents/thuhoach.nckh/venv/lib/python3.12/site-packages (from ipython) (2.18.0)\n",
      "Requirement already satisfied: stack-data in /Users/chibangnguyen/Documents/thuhoach.nckh/venv/lib/python3.12/site-packages (from ipython) (0.6.3)\n",
      "Requirement already satisfied: traitlets>=5.13.0 in /Users/chibangnguyen/Documents/thuhoach.nckh/venv/lib/python3.12/site-packages (from ipython) (5.14.3)\n",
      "Requirement already satisfied: pexpect>4.3 in /Users/chibangnguyen/Documents/thuhoach.nckh/venv/lib/python3.12/site-packages (from ipython) (4.9.0)\n",
      "Requirement already satisfied: parso<0.9.0,>=0.8.3 in /Users/chibangnguyen/Documents/thuhoach.nckh/venv/lib/python3.12/site-packages (from jedi>=0.16->ipython) (0.8.4)\n",
      "Requirement already satisfied: ptyprocess>=0.5 in /Users/chibangnguyen/Documents/thuhoach.nckh/venv/lib/python3.12/site-packages (from pexpect>4.3->ipython) (0.7.0)\n",
      "Requirement already satisfied: wcwidth in /Users/chibangnguyen/Documents/thuhoach.nckh/venv/lib/python3.12/site-packages (from prompt-toolkit<3.1.0,>=3.0.41->ipython) (0.2.13)\n",
      "Requirement already satisfied: executing>=1.2.0 in /Users/chibangnguyen/Documents/thuhoach.nckh/venv/lib/python3.12/site-packages (from stack-data->ipython) (2.1.0)\n",
      "Requirement already satisfied: asttokens>=2.1.0 in /Users/chibangnguyen/Documents/thuhoach.nckh/venv/lib/python3.12/site-packages (from stack-data->ipython) (2.4.1)\n",
      "Requirement already satisfied: pure-eval in /Users/chibangnguyen/Documents/thuhoach.nckh/venv/lib/python3.12/site-packages (from stack-data->ipython) (0.2.3)\n",
      "Requirement already satisfied: six>=1.12.0 in /Users/chibangnguyen/Documents/thuhoach.nckh/venv/lib/python3.12/site-packages (from asttokens>=2.1.0->stack-data->ipython) (1.16.0)\n",
      "Note: you may need to restart the kernel to use updated packages.\n",
      "Requirement already satisfied: jinja2 in /Users/chibangnguyen/Documents/thuhoach.nckh/venv/lib/python3.12/site-packages (3.1.4)\n",
      "Requirement already satisfied: MarkupSafe>=2.0 in /Users/chibangnguyen/Documents/thuhoach.nckh/venv/lib/python3.12/site-packages (from jinja2) (2.1.5)\n",
      "Note: you may need to restart the kernel to use updated packages.\n"
     ]
    }
   ],
   "source": [
    "%pip install tilearn\n",
    "%pip install pandas\n",
    "%pip install ipython\n",
    "%pip install jinja2"
   ]
  },
  {
   "cell_type": "code",
   "execution_count": 117,
   "metadata": {},
   "outputs": [],
   "source": [
    "import tilearn as tl\n",
    "from tilearn import _plat as pl\n",
    "import csv\n",
    "import pandas as pd\n",
    "from IPython.display import display"
   ]
  },
  {
   "cell_type": "markdown",
   "metadata": {},
   "source": [
    "# Chạy số liệu minh hoạ bằng TiLearn"
   ]
  },
  {
   "cell_type": "markdown",
   "metadata": {},
   "source": [
    "Giả sử ta cần xử lý 3 danh sách sau"
   ]
  },
  {
   "cell_type": "markdown",
   "metadata": {},
   "source": [
    "- Danh sách 1:"
   ]
  },
  {
   "cell_type": "code",
   "execution_count": 118,
   "metadata": {},
   "outputs": [
    {
     "data": {
      "text/html": [
       "<div>\n",
       "<style scoped>\n",
       "    .dataframe tbody tr th:only-of-type {\n",
       "        vertical-align: middle;\n",
       "    }\n",
       "\n",
       "    .dataframe tbody tr th {\n",
       "        vertical-align: top;\n",
       "    }\n",
       "\n",
       "    .dataframe thead th {\n",
       "        text-align: right;\n",
       "    }\n",
       "</style>\n",
       "<table border=\"1\" class=\"dataframe\">\n",
       "  <thead>\n",
       "    <tr style=\"text-align: right;\">\n",
       "      <th></th>\n",
       "      <th>Name</th>\n",
       "      <th>p</th>\n",
       "      <th>r</th>\n",
       "      <th>d</th>\n",
       "      <th>w</th>\n",
       "    </tr>\n",
       "  </thead>\n",
       "  <tbody>\n",
       "    <tr>\n",
       "      <th>0</th>\n",
       "      <td>Job 1</td>\n",
       "      <td>4</td>\n",
       "      <td>0</td>\n",
       "      <td>100</td>\n",
       "      <td>0.65</td>\n",
       "    </tr>\n",
       "    <tr>\n",
       "      <th>1</th>\n",
       "      <td>Job 2</td>\n",
       "      <td>1</td>\n",
       "      <td>0</td>\n",
       "      <td>100</td>\n",
       "      <td>0.84</td>\n",
       "    </tr>\n",
       "    <tr>\n",
       "      <th>2</th>\n",
       "      <td>Job 3</td>\n",
       "      <td>3</td>\n",
       "      <td>0</td>\n",
       "      <td>100</td>\n",
       "      <td>0.46</td>\n",
       "    </tr>\n",
       "    <tr>\n",
       "      <th>3</th>\n",
       "      <td>Job 4</td>\n",
       "      <td>3</td>\n",
       "      <td>0</td>\n",
       "      <td>100</td>\n",
       "      <td>0.79</td>\n",
       "    </tr>\n",
       "    <tr>\n",
       "      <th>4</th>\n",
       "      <td>Job 5</td>\n",
       "      <td>1</td>\n",
       "      <td>0</td>\n",
       "      <td>100</td>\n",
       "      <td>0.17</td>\n",
       "    </tr>\n",
       "    <tr>\n",
       "      <th>5</th>\n",
       "      <td>Job 6</td>\n",
       "      <td>3</td>\n",
       "      <td>0</td>\n",
       "      <td>100</td>\n",
       "      <td>0.50</td>\n",
       "    </tr>\n",
       "    <tr>\n",
       "      <th>6</th>\n",
       "      <td>Job 7</td>\n",
       "      <td>4</td>\n",
       "      <td>0</td>\n",
       "      <td>100</td>\n",
       "      <td>0.95</td>\n",
       "    </tr>\n",
       "    <tr>\n",
       "      <th>7</th>\n",
       "      <td>Job 8</td>\n",
       "      <td>2</td>\n",
       "      <td>0</td>\n",
       "      <td>100</td>\n",
       "      <td>0.14</td>\n",
       "    </tr>\n",
       "    <tr>\n",
       "      <th>8</th>\n",
       "      <td>Job 9</td>\n",
       "      <td>5</td>\n",
       "      <td>0</td>\n",
       "      <td>100</td>\n",
       "      <td>0.52</td>\n",
       "    </tr>\n",
       "    <tr>\n",
       "      <th>9</th>\n",
       "      <td>Job 10</td>\n",
       "      <td>2</td>\n",
       "      <td>0</td>\n",
       "      <td>100</td>\n",
       "      <td>0.40</td>\n",
       "    </tr>\n",
       "    <tr>\n",
       "      <th>10</th>\n",
       "      <td>Job 11</td>\n",
       "      <td>4</td>\n",
       "      <td>0</td>\n",
       "      <td>100</td>\n",
       "      <td>0.55</td>\n",
       "    </tr>\n",
       "    <tr>\n",
       "      <th>11</th>\n",
       "      <td>Job 12</td>\n",
       "      <td>1</td>\n",
       "      <td>0</td>\n",
       "      <td>100</td>\n",
       "      <td>0.39</td>\n",
       "    </tr>\n",
       "    <tr>\n",
       "      <th>12</th>\n",
       "      <td>Job 13</td>\n",
       "      <td>2</td>\n",
       "      <td>0</td>\n",
       "      <td>100</td>\n",
       "      <td>0.57</td>\n",
       "    </tr>\n",
       "    <tr>\n",
       "      <th>13</th>\n",
       "      <td>Job 14</td>\n",
       "      <td>1</td>\n",
       "      <td>0</td>\n",
       "      <td>100</td>\n",
       "      <td>0.90</td>\n",
       "    </tr>\n",
       "    <tr>\n",
       "      <th>14</th>\n",
       "      <td>Job 15</td>\n",
       "      <td>1</td>\n",
       "      <td>0</td>\n",
       "      <td>100</td>\n",
       "      <td>0.22</td>\n",
       "    </tr>\n",
       "  </tbody>\n",
       "</table>\n",
       "</div>"
      ],
      "text/plain": [
       "      Name  p  r    d     w\n",
       "0    Job 1  4  0  100  0.65\n",
       "1    Job 2  1  0  100  0.84\n",
       "2    Job 3  3  0  100  0.46\n",
       "3    Job 4  3  0  100  0.79\n",
       "4    Job 5  1  0  100  0.17\n",
       "5    Job 6  3  0  100  0.50\n",
       "6    Job 7  4  0  100  0.95\n",
       "7    Job 8  2  0  100  0.14\n",
       "8    Job 9  5  0  100  0.52\n",
       "9   Job 10  2  0  100  0.40\n",
       "10  Job 11  4  0  100  0.55\n",
       "11  Job 12  1  0  100  0.39\n",
       "12  Job 13  2  0  100  0.57\n",
       "13  Job 14  1  0  100  0.90\n",
       "14  Job 15  1  0  100  0.22"
      ]
     },
     "metadata": {},
     "output_type": "display_data"
    }
   ],
   "source": [
    "list1 = '/Users/chibangnguyen/Documents/thuhoach.nckh/ipynb/thuhoach2/data/list1.csv'\n",
    "display(pd.read_csv(list1))"
   ]
  },
  {
   "cell_type": "markdown",
   "metadata": {},
   "source": [
    "- Danh sách 2:"
   ]
  },
  {
   "cell_type": "code",
   "execution_count": 119,
   "metadata": {},
   "outputs": [
    {
     "data": {
      "text/html": [
       "<div>\n",
       "<style scoped>\n",
       "    .dataframe tbody tr th:only-of-type {\n",
       "        vertical-align: middle;\n",
       "    }\n",
       "\n",
       "    .dataframe tbody tr th {\n",
       "        vertical-align: top;\n",
       "    }\n",
       "\n",
       "    .dataframe thead th {\n",
       "        text-align: right;\n",
       "    }\n",
       "</style>\n",
       "<table border=\"1\" class=\"dataframe\">\n",
       "  <thead>\n",
       "    <tr style=\"text-align: right;\">\n",
       "      <th></th>\n",
       "      <th>Name</th>\n",
       "      <th>p</th>\n",
       "      <th>r</th>\n",
       "      <th>d</th>\n",
       "      <th>w</th>\n",
       "    </tr>\n",
       "  </thead>\n",
       "  <tbody>\n",
       "    <tr>\n",
       "      <th>0</th>\n",
       "      <td>Job 16</td>\n",
       "      <td>4</td>\n",
       "      <td>0</td>\n",
       "      <td>100</td>\n",
       "      <td>0.70</td>\n",
       "    </tr>\n",
       "    <tr>\n",
       "      <th>1</th>\n",
       "      <td>Job 17</td>\n",
       "      <td>3</td>\n",
       "      <td>0</td>\n",
       "      <td>100</td>\n",
       "      <td>0.95</td>\n",
       "    </tr>\n",
       "    <tr>\n",
       "      <th>2</th>\n",
       "      <td>Job 18</td>\n",
       "      <td>4</td>\n",
       "      <td>0</td>\n",
       "      <td>100</td>\n",
       "      <td>0.49</td>\n",
       "    </tr>\n",
       "    <tr>\n",
       "      <th>3</th>\n",
       "      <td>Job 19</td>\n",
       "      <td>1</td>\n",
       "      <td>0</td>\n",
       "      <td>100</td>\n",
       "      <td>0.13</td>\n",
       "    </tr>\n",
       "    <tr>\n",
       "      <th>4</th>\n",
       "      <td>Job 20</td>\n",
       "      <td>5</td>\n",
       "      <td>0</td>\n",
       "      <td>100</td>\n",
       "      <td>0.94</td>\n",
       "    </tr>\n",
       "    <tr>\n",
       "      <th>5</th>\n",
       "      <td>Job 21</td>\n",
       "      <td>1</td>\n",
       "      <td>0</td>\n",
       "      <td>100</td>\n",
       "      <td>0.57</td>\n",
       "    </tr>\n",
       "    <tr>\n",
       "      <th>6</th>\n",
       "      <td>Job 22</td>\n",
       "      <td>4</td>\n",
       "      <td>0</td>\n",
       "      <td>100</td>\n",
       "      <td>0.47</td>\n",
       "    </tr>\n",
       "  </tbody>\n",
       "</table>\n",
       "</div>"
      ],
      "text/plain": [
       "     Name  p  r    d     w\n",
       "0  Job 16  4  0  100  0.70\n",
       "1  Job 17  3  0  100  0.95\n",
       "2  Job 18  4  0  100  0.49\n",
       "3  Job 19  1  0  100  0.13\n",
       "4  Job 20  5  0  100  0.94\n",
       "5  Job 21  1  0  100  0.57\n",
       "6  Job 22  4  0  100  0.47"
      ]
     },
     "metadata": {},
     "output_type": "display_data"
    }
   ],
   "source": [
    "list2 = '/Users/chibangnguyen/Documents/thuhoach.nckh/ipynb/thuhoach2/data/list2.csv'\n",
    "display(pd.read_csv(list2))"
   ]
  },
  {
   "cell_type": "markdown",
   "metadata": {},
   "source": [
    "- Danh sách 3:"
   ]
  },
  {
   "cell_type": "code",
   "execution_count": 120,
   "metadata": {},
   "outputs": [
    {
     "data": {
      "text/html": [
       "<div>\n",
       "<style scoped>\n",
       "    .dataframe tbody tr th:only-of-type {\n",
       "        vertical-align: middle;\n",
       "    }\n",
       "\n",
       "    .dataframe tbody tr th {\n",
       "        vertical-align: top;\n",
       "    }\n",
       "\n",
       "    .dataframe thead th {\n",
       "        text-align: right;\n",
       "    }\n",
       "</style>\n",
       "<table border=\"1\" class=\"dataframe\">\n",
       "  <thead>\n",
       "    <tr style=\"text-align: right;\">\n",
       "      <th></th>\n",
       "      <th>Name</th>\n",
       "      <th>p</th>\n",
       "      <th>r</th>\n",
       "      <th>d</th>\n",
       "      <th>w</th>\n",
       "    </tr>\n",
       "  </thead>\n",
       "  <tbody>\n",
       "    <tr>\n",
       "      <th>0</th>\n",
       "      <td>Job 23</td>\n",
       "      <td>4</td>\n",
       "      <td>0</td>\n",
       "      <td>100</td>\n",
       "      <td>0.24</td>\n",
       "    </tr>\n",
       "    <tr>\n",
       "      <th>1</th>\n",
       "      <td>Job 24</td>\n",
       "      <td>1</td>\n",
       "      <td>0</td>\n",
       "      <td>100</td>\n",
       "      <td>0.54</td>\n",
       "    </tr>\n",
       "    <tr>\n",
       "      <th>2</th>\n",
       "      <td>Job 25</td>\n",
       "      <td>2</td>\n",
       "      <td>0</td>\n",
       "      <td>100</td>\n",
       "      <td>0.81</td>\n",
       "    </tr>\n",
       "    <tr>\n",
       "      <th>3</th>\n",
       "      <td>Job 26</td>\n",
       "      <td>2</td>\n",
       "      <td>0</td>\n",
       "      <td>100</td>\n",
       "      <td>0.41</td>\n",
       "    </tr>\n",
       "    <tr>\n",
       "      <th>4</th>\n",
       "      <td>Job 27</td>\n",
       "      <td>5</td>\n",
       "      <td>0</td>\n",
       "      <td>100</td>\n",
       "      <td>0.22</td>\n",
       "    </tr>\n",
       "    <tr>\n",
       "      <th>5</th>\n",
       "      <td>Job 28</td>\n",
       "      <td>2</td>\n",
       "      <td>0</td>\n",
       "      <td>100</td>\n",
       "      <td>0.29</td>\n",
       "    </tr>\n",
       "    <tr>\n",
       "      <th>6</th>\n",
       "      <td>Job 29</td>\n",
       "      <td>5</td>\n",
       "      <td>0</td>\n",
       "      <td>100</td>\n",
       "      <td>0.65</td>\n",
       "    </tr>\n",
       "    <tr>\n",
       "      <th>7</th>\n",
       "      <td>Job 30</td>\n",
       "      <td>4</td>\n",
       "      <td>0</td>\n",
       "      <td>100</td>\n",
       "      <td>0.69</td>\n",
       "    </tr>\n",
       "  </tbody>\n",
       "</table>\n",
       "</div>"
      ],
      "text/plain": [
       "     Name  p  r    d     w\n",
       "0  Job 23  4  0  100  0.24\n",
       "1  Job 24  1  0  100  0.54\n",
       "2  Job 25  2  0  100  0.81\n",
       "3  Job 26  2  0  100  0.41\n",
       "4  Job 27  5  0  100  0.22\n",
       "5  Job 28  2  0  100  0.29\n",
       "6  Job 29  5  0  100  0.65\n",
       "7  Job 30  4  0  100  0.69"
      ]
     },
     "metadata": {},
     "output_type": "display_data"
    }
   ],
   "source": [
    "list3 = '/Users/chibangnguyen/Documents/thuhoach.nckh/ipynb/thuhoach2/data/list3.csv'\n",
    "display(pd.read_csv(list3))"
   ]
  },
  {
   "cell_type": "markdown",
   "metadata": {},
   "source": [
    "Trong đó, danh sách 1 các công việc độc lập và không tồn tại chuỗi, tức $1||\\sum w_j C_j$, danh sách 2 và 3 thuộc dạng $1|prec|\\sum w_j C_j$."
   ]
  },
  {
   "cell_type": "markdown",
   "metadata": {},
   "source": [
    "Ta gọi thư viện TiLearn như sau:"
   ]
  },
  {
   "cell_type": "markdown",
   "metadata": {},
   "source": [
    "Cấu trúc tập tin được thiết lập như sau:"
   ]
  },
  {
   "cell_type": "markdown",
   "metadata": {
    "vscode": {
     "languageId": "raw"
    }
   },
   "source": [
    "```txt\n",
    "thuhoach2/\n",
    "├── main.py\n",
    "└── data/\n",
    "    ├── backup/\n",
    "    ├── list1.csv\n",
    "    ├── list2.csv\n",
    "    └── list3.csv\n",
    "```"
   ]
  },
  {
   "cell_type": "markdown",
   "metadata": {},
   "source": [
    "Khai báo đường dẫn dữ liệu:"
   ]
  },
  {
   "cell_type": "code",
   "execution_count": 121,
   "metadata": {},
   "outputs": [],
   "source": [
    "original = '/Users/chibangnguyen/Documents/thuhoach.nckh/ipynb/thuhoach2/data'\n",
    "backup = '/Users/chibangnguyen/Documents/thuhoach.nckh/ipynb/thuhoach2/data/backup'"
   ]
  },
  {
   "cell_type": "markdown",
   "metadata": {},
   "source": [
    "Chọn dạng bài toán cho từng danh sách bằng cách chọn ``prec`` như sau:\n",
    "    \n",
    "- ``prec=0`` cho bài toán không đòi hỏi công việc tuần tự.\n",
    "\n",
    "- ``prec=1`` cho bài toán đòi hỏi công việc có tuần tự."
   ]
  },
  {
   "cell_type": "code",
   "execution_count": 122,
   "metadata": {},
   "outputs": [],
   "source": [
    "lists = [\n",
    "    pl.List(file_path=list1, prec=0),\n",
    "    pl.List(file_path=list2, prec=1),\n",
    "    pl.List(file_path=list3, prec=1),\n",
    "]"
   ]
  },
  {
   "cell_type": "markdown",
   "metadata": {},
   "source": [
    "Ta chạy chương trình bằng lệnh sau:"
   ]
  },
  {
   "cell_type": "code",
   "execution_count": 123,
   "metadata": {},
   "outputs": [
    {
     "name": "stdout",
     "output_type": "stream",
     "text": [
      "[['Job 14', 1.0, 0, 100, 0.9, 0.9], ['Job 2', 1.0, 0, 100, 0.84, 0.84], ['Job 12', 1.0, 0, 100, 0.39, 0.39], ['Job 13', 2.0, 0, 100, 0.57, 0.285], ['Job 4', 3.0, 0, 100, 0.79, 0.26333333333333336], ['Job 7', 4.0, 0, 100, 0.95, 0.2375], ['Job 16', 4.0, 0, 100, 0.7, 0.175], ['Job 17', 3.0, 0, 100, 0.95, 0.2357142857142857], ['Job 23', 4.0, 0, 100, 0.24, 0.06], ['Job 24', 1.0, 0, 100, 0.54, 0.156], ['Job 25', 2.0, 0, 100, 0.81, 0.22714285714285715], ['Job 15', 1.0, 0, 100, 0.22, 0.22], ['Job 26', 2.0, 0, 100, 0.41, 0.205], ['Job 10', 2.0, 0, 100, 0.4, 0.2], ['Job 18', 4.0, 0, 100, 0.49, 0.1225], ['Job 19', 1.0, 0, 100, 0.13, 0.124], ['Job 20', 5.0, 0, 100, 0.94, 0.156], ['Job 21', 1.0, 0, 100, 0.57, 0.19363636363636363], ['Job 5', 1.0, 0, 100, 0.17, 0.17], ['Job 6', 3.0, 0, 100, 0.5, 0.16666666666666666], ['Job 1', 4.0, 0, 100, 0.65, 0.1625], ['Job 3', 3.0, 0, 100, 0.46, 0.15333333333333335], ['Job 11', 4.0, 0, 100, 0.55, 0.1375], ['Job 22', 4.0, 0, 100, 0.47, 0.1175], ['Job 27', 5.0, 0, 100, 0.22, 0.044], ['Job 28', 2.0, 0, 100, 0.29, 0.07285714285714286], ['Job 29', 5.0, 0, 100, 0.65, 0.09666666666666668], ['Job 30', 4.0, 0, 100, 0.69, 0.115625], ['Job 9', 5.0, 0, 100, 0.52, 0.10400000000000001], ['Job 8', 2.0, 0, 100, 0.14, 0.07]]\n"
     ]
    }
   ],
   "source": [
    "schedule = tl.optimal_list(lists, original, backup)\n",
    "print(schedule)"
   ]
  },
  {
   "cell_type": "markdown",
   "metadata": {},
   "source": [
    "Để giúp danh sách dễ quan sát, ta có thể dùng lệnh sau: "
   ]
  },
  {
   "cell_type": "code",
   "execution_count": 124,
   "metadata": {},
   "outputs": [
    {
     "name": "stdout",
     "output_type": "stream",
     "text": [
      "['Job 14', 1.0, 0, 100, 0.9, 0.9]\n",
      "['Job 2', 1.0, 0, 100, 0.84, 0.84]\n",
      "['Job 12', 1.0, 0, 100, 0.39, 0.39]\n",
      "['Job 13', 2.0, 0, 100, 0.57, 0.285]\n",
      "['Job 4', 3.0, 0, 100, 0.79, 0.26333333333333336]\n",
      "['Job 7', 4.0, 0, 100, 0.95, 0.2375]\n",
      "['Job 16', 4.0, 0, 100, 0.7, 0.175]\n",
      "['Job 17', 3.0, 0, 100, 0.95, 0.2357142857142857]\n",
      "['Job 23', 4.0, 0, 100, 0.24, 0.06]\n",
      "['Job 24', 1.0, 0, 100, 0.54, 0.156]\n",
      "['Job 25', 2.0, 0, 100, 0.81, 0.22714285714285715]\n",
      "['Job 15', 1.0, 0, 100, 0.22, 0.22]\n",
      "['Job 26', 2.0, 0, 100, 0.41, 0.205]\n",
      "['Job 10', 2.0, 0, 100, 0.4, 0.2]\n",
      "['Job 18', 4.0, 0, 100, 0.49, 0.1225]\n",
      "['Job 19', 1.0, 0, 100, 0.13, 0.124]\n",
      "['Job 20', 5.0, 0, 100, 0.94, 0.156]\n",
      "['Job 21', 1.0, 0, 100, 0.57, 0.19363636363636363]\n",
      "['Job 5', 1.0, 0, 100, 0.17, 0.17]\n",
      "['Job 6', 3.0, 0, 100, 0.5, 0.16666666666666666]\n",
      "['Job 1', 4.0, 0, 100, 0.65, 0.1625]\n",
      "['Job 3', 3.0, 0, 100, 0.46, 0.15333333333333335]\n",
      "['Job 11', 4.0, 0, 100, 0.55, 0.1375]\n",
      "['Job 22', 4.0, 0, 100, 0.47, 0.1175]\n",
      "['Job 27', 5.0, 0, 100, 0.22, 0.044]\n",
      "['Job 28', 2.0, 0, 100, 0.29, 0.07285714285714286]\n",
      "['Job 29', 5.0, 0, 100, 0.65, 0.09666666666666668]\n",
      "['Job 30', 4.0, 0, 100, 0.69, 0.115625]\n",
      "['Job 9', 5.0, 0, 100, 0.52, 0.10400000000000001]\n",
      "['Job 8', 2.0, 0, 100, 0.14, 0.07]\n"
     ]
    }
   ],
   "source": [
    "for row in tl.optimal_list(lists, original, backup):\n",
    "    print(row)"
   ]
  },
  {
   "cell_type": "code",
   "execution_count": 125,
   "metadata": {},
   "outputs": [],
   "source": [
    "header = ['Name','p','r','d','w','p-factor']\n",
    "output = '/Users/chibangnguyen/Documents/thuhoach.nckh/ipynb/thuhoach2/ouput.csv'\n",
    "schedule = tl.optimal_list(lists, original, backup)\n",
    "with open(output, 'w', newline='') as file:\n",
    "    writer = csv.writer(file)\n",
    "    writer.writerow(header)\n",
    "    writer.writerows(schedule)"
   ]
  },
  {
   "cell_type": "code",
   "execution_count": 126,
   "metadata": {},
   "outputs": [],
   "source": [
    "df = pd.read_csv(r'/Users/chibangnguyen/Documents/thuhoach.nckh/ipynb/thuhoach2/ouput.csv', engine='pyarrow')"
   ]
  },
  {
   "cell_type": "code",
   "execution_count": 127,
   "metadata": {},
   "outputs": [
    {
     "data": {
      "text/plain": [
       "<Axes: title={'center': 'Biểu đồ khoảng thời gian xử lý'}>"
      ]
     },
     "execution_count": 127,
     "metadata": {},
     "output_type": "execute_result"
    },
    {
     "data": {
      "image/png": "[encoded data removed]",
      "text/plain": [
       "<Figure size 640x480 with 1 Axes>"
      ]
     },
     "metadata": {},
     "output_type": "display_data"
    }
   ],
   "source": [
    "df['p'].plot(title='Biểu đồ khoảng thời gian xử lý')"
   ]
  },
  {
   "cell_type": "code",
   "execution_count": 128,
   "metadata": {},
   "outputs": [
    {
     "data": {
      "text/plain": [
       "<Axes: title={'center': 'Biểu đồ trọng số công việc'}>"
      ]
     },
     "execution_count": 128,
     "metadata": {},
     "output_type": "execute_result"
    },
    {
     "data": {
      "image/png": "[encoded data removed]",
      "text/plain": [
       "<Figure size 640x480 with 1 Axes>"
      ]
     },
     "metadata": {},
     "output_type": "display_data"
    }
   ],
   "source": [
    "df['w'].plot(title='Biểu đồ trọng số công việc')"
   ]
  },
  {
   "cell_type": "markdown",
   "metadata": {},
   "source": [
    "# Lập kế hoạch gia công thiết kế bằng TiLearn"
   ]
  },
  {
   "cell_type": "markdown",
   "metadata": {},
   "source": [
    "## Giới thiệu về quy trình thiết kế"
   ]
  },
  {
   "cell_type": "markdown",
   "metadata": {},
   "source": [
    "Trong quá trình xử lý, studio thường phải đối mặt với việc phân bổ nguồn lực và điều chỉnh thiết kế cho nhiều dự án đồng thời, dựa trên sự ưu tiên của khách hàng, độ phức tạp của từng dự án và các yếu tố ngoại cảnh như thời gian thi công. Việc áp dụng các kỹ thuật lập lịch giúp quản lý dữ liệu và lập kế hoạch hiệu quả hơn, đồng thời theo dõi tiến độ và điều chỉnh khi cần thiết.\n",
    "\n",
    "Thông thường, một dự án thiết kế nội thất trải qua các giai đoạn chính sau:\n",
    "\n",
    "- Phát triển ý tưởng\n",
    "- Quy hoạch không gian\n",
    "- Phát triển thiết kế\n",
    "- Lựa chọn vật liệu\n",
    "- Tính toán chi phí\n",
    "- Xây dựng\n",
    "- Lắp đặt\n",
    "- Decor\n",
    "- Bàn giao\n",
    "\n",
    "Mỗi công đoạn cần được thực hiện theo thứ tự, với yêu cầu hoàn thành công việc trước khi bắt đầu bước tiếp theo. Do đó, bài toán có thể được mô hình hóa dưới dạng bài toán lập lịch $1|prec|\\sum w_j C_j$, trong đó các công việc phải tuân theo thứ tự ưu tiên và ràng buộc trước sau.\n",
    "\n",
    "Ngoài ra, studio còn phải thực hiện các công việc khảo sát hiện trạng cho nhiều dự án khác nhau, mà không yêu cầu tuân thủ tuần tự giữa các công việc. Trường hợp này có thể được mô hình hóa bằng bài toán $1||\\sum w_j C_j$, trong đó các công việc có thể hoàn thành theo thứ tự tự do."
   ]
  },
  {
   "cell_type": "markdown",
   "metadata": {},
   "source": [
    "## Chạy số liệu minh hoạ"
   ]
  },
  {
   "cell_type": "markdown",
   "metadata": {},
   "source": [
    "Giả sử ta có danh sách 3 dự án A, B và C sau"
   ]
  },
  {
   "cell_type": "markdown",
   "metadata": {},
   "source": [
    "Dự án A:"
   ]
  },
  {
   "cell_type": "code",
   "execution_count": 129,
   "metadata": {},
   "outputs": [
    {
     "data": {
      "text/html": [
       "<div>\n",
       "<style scoped>\n",
       "    .dataframe tbody tr th:only-of-type {\n",
       "        vertical-align: middle;\n",
       "    }\n",
       "\n",
       "    .dataframe tbody tr th {\n",
       "        vertical-align: top;\n",
       "    }\n",
       "\n",
       "    .dataframe thead th {\n",
       "        text-align: right;\n",
       "    }\n",
       "</style>\n",
       "<table border=\"1\" class=\"dataframe\">\n",
       "  <thead>\n",
       "    <tr style=\"text-align: right;\">\n",
       "      <th></th>\n",
       "      <th>name</th>\n",
       "      <th>p</th>\n",
       "      <th>r</th>\n",
       "      <th>d</th>\n",
       "      <th>w</th>\n",
       "    </tr>\n",
       "  </thead>\n",
       "  <tbody>\n",
       "    <tr>\n",
       "      <th>0</th>\n",
       "      <td>Project A - Phát triển ý tưởng</td>\n",
       "      <td>4</td>\n",
       "      <td>0</td>\n",
       "      <td>200</td>\n",
       "      <td>0.85</td>\n",
       "    </tr>\n",
       "    <tr>\n",
       "      <th>1</th>\n",
       "      <td>Project A - Quy hoạch không gian</td>\n",
       "      <td>3</td>\n",
       "      <td>0</td>\n",
       "      <td>200</td>\n",
       "      <td>0.80</td>\n",
       "    </tr>\n",
       "    <tr>\n",
       "      <th>2</th>\n",
       "      <td>Project A - Phát triển thiết kế</td>\n",
       "      <td>5</td>\n",
       "      <td>0</td>\n",
       "      <td>200</td>\n",
       "      <td>0.75</td>\n",
       "    </tr>\n",
       "    <tr>\n",
       "      <th>3</th>\n",
       "      <td>Project A - Lựa chọn vật liệu</td>\n",
       "      <td>2</td>\n",
       "      <td>0</td>\n",
       "      <td>200</td>\n",
       "      <td>0.70</td>\n",
       "    </tr>\n",
       "    <tr>\n",
       "      <th>4</th>\n",
       "      <td>Project A - Tính toán chi phí</td>\n",
       "      <td>2</td>\n",
       "      <td>0</td>\n",
       "      <td>200</td>\n",
       "      <td>0.60</td>\n",
       "    </tr>\n",
       "    <tr>\n",
       "      <th>5</th>\n",
       "      <td>Project A - Xây dựng</td>\n",
       "      <td>10</td>\n",
       "      <td>0</td>\n",
       "      <td>200</td>\n",
       "      <td>0.95</td>\n",
       "    </tr>\n",
       "    <tr>\n",
       "      <th>6</th>\n",
       "      <td>Project A - Lắp đặt</td>\n",
       "      <td>4</td>\n",
       "      <td>0</td>\n",
       "      <td>200</td>\n",
       "      <td>0.70</td>\n",
       "    </tr>\n",
       "    <tr>\n",
       "      <th>7</th>\n",
       "      <td>Project A - Decor</td>\n",
       "      <td>3</td>\n",
       "      <td>0</td>\n",
       "      <td>200</td>\n",
       "      <td>0.85</td>\n",
       "    </tr>\n",
       "    <tr>\n",
       "      <th>8</th>\n",
       "      <td>Project A - Bàn giao</td>\n",
       "      <td>1</td>\n",
       "      <td>0</td>\n",
       "      <td>200</td>\n",
       "      <td>1.00</td>\n",
       "    </tr>\n",
       "  </tbody>\n",
       "</table>\n",
       "</div>"
      ],
      "text/plain": [
       "                               name   p  r    d     w\n",
       "0    Project A - Phát triển ý tưởng   4  0  200  0.85\n",
       "1  Project A - Quy hoạch không gian   3  0  200  0.80\n",
       "2   Project A - Phát triển thiết kế   5  0  200  0.75\n",
       "3     Project A - Lựa chọn vật liệu   2  0  200  0.70\n",
       "4     Project A - Tính toán chi phí   2  0  200  0.60\n",
       "5              Project A - Xây dựng  10  0  200  0.95\n",
       "6               Project A - Lắp đặt   4  0  200  0.70\n",
       "7                 Project A - Decor   3  0  200  0.85\n",
       "8              Project A - Bàn giao   1  0  200  1.00"
      ]
     },
     "metadata": {},
     "output_type": "display_data"
    }
   ],
   "source": [
    "project_A = '/Users/chibangnguyen/Documents/thuhoach.nckh/ipynb/thuhoach2/interior_design_schedule/Project A-Project A.csv'\n",
    "display(pd.read_csv(project_A))"
   ]
  },
  {
   "cell_type": "markdown",
   "metadata": {},
   "source": [
    "Dự án B:"
   ]
  },
  {
   "cell_type": "code",
   "execution_count": 130,
   "metadata": {},
   "outputs": [
    {
     "data": {
      "text/html": [
       "<div>\n",
       "<style scoped>\n",
       "    .dataframe tbody tr th:only-of-type {\n",
       "        vertical-align: middle;\n",
       "    }\n",
       "\n",
       "    .dataframe tbody tr th {\n",
       "        vertical-align: top;\n",
       "    }\n",
       "\n",
       "    .dataframe thead th {\n",
       "        text-align: right;\n",
       "    }\n",
       "</style>\n",
       "<table border=\"1\" class=\"dataframe\">\n",
       "  <thead>\n",
       "    <tr style=\"text-align: right;\">\n",
       "      <th></th>\n",
       "      <th>name</th>\n",
       "      <th>p</th>\n",
       "      <th>r</th>\n",
       "      <th>d</th>\n",
       "      <th>w</th>\n",
       "    </tr>\n",
       "  </thead>\n",
       "  <tbody>\n",
       "    <tr>\n",
       "      <th>0</th>\n",
       "      <td>Project B - Phát triển ý tưởng</td>\n",
       "      <td>8</td>\n",
       "      <td>0</td>\n",
       "      <td>200</td>\n",
       "      <td>0.85</td>\n",
       "    </tr>\n",
       "    <tr>\n",
       "      <th>1</th>\n",
       "      <td>Project B - Quy hoạch không gian</td>\n",
       "      <td>7</td>\n",
       "      <td>0</td>\n",
       "      <td>200</td>\n",
       "      <td>0.80</td>\n",
       "    </tr>\n",
       "    <tr>\n",
       "      <th>2</th>\n",
       "      <td>Project B - Phát triển thiết kế</td>\n",
       "      <td>20</td>\n",
       "      <td>0</td>\n",
       "      <td>200</td>\n",
       "      <td>0.95</td>\n",
       "    </tr>\n",
       "    <tr>\n",
       "      <th>3</th>\n",
       "      <td>Project B - Lựa chọn vật liệu</td>\n",
       "      <td>3</td>\n",
       "      <td>0</td>\n",
       "      <td>200</td>\n",
       "      <td>0.70</td>\n",
       "    </tr>\n",
       "    <tr>\n",
       "      <th>4</th>\n",
       "      <td>Project B - Tính toán chi phí</td>\n",
       "      <td>2</td>\n",
       "      <td>0</td>\n",
       "      <td>200</td>\n",
       "      <td>0.60</td>\n",
       "    </tr>\n",
       "    <tr>\n",
       "      <th>5</th>\n",
       "      <td>Project B - Xây dựng</td>\n",
       "      <td>40</td>\n",
       "      <td>0</td>\n",
       "      <td>200</td>\n",
       "      <td>0.95</td>\n",
       "    </tr>\n",
       "    <tr>\n",
       "      <th>6</th>\n",
       "      <td>Project B - Lắp đặt</td>\n",
       "      <td>15</td>\n",
       "      <td>0</td>\n",
       "      <td>200</td>\n",
       "      <td>0.70</td>\n",
       "    </tr>\n",
       "    <tr>\n",
       "      <th>7</th>\n",
       "      <td>Project B - Decor</td>\n",
       "      <td>9</td>\n",
       "      <td>0</td>\n",
       "      <td>200</td>\n",
       "      <td>0.85</td>\n",
       "    </tr>\n",
       "    <tr>\n",
       "      <th>8</th>\n",
       "      <td>Project B - Bàn giao</td>\n",
       "      <td>1</td>\n",
       "      <td>0</td>\n",
       "      <td>200</td>\n",
       "      <td>1.00</td>\n",
       "    </tr>\n",
       "  </tbody>\n",
       "</table>\n",
       "</div>"
      ],
      "text/plain": [
       "                               name   p  r    d     w\n",
       "0    Project B - Phát triển ý tưởng   8  0  200  0.85\n",
       "1  Project B - Quy hoạch không gian   7  0  200  0.80\n",
       "2   Project B - Phát triển thiết kế  20  0  200  0.95\n",
       "3     Project B - Lựa chọn vật liệu   3  0  200  0.70\n",
       "4     Project B - Tính toán chi phí   2  0  200  0.60\n",
       "5              Project B - Xây dựng  40  0  200  0.95\n",
       "6               Project B - Lắp đặt  15  0  200  0.70\n",
       "7                 Project B - Decor   9  0  200  0.85\n",
       "8              Project B - Bàn giao   1  0  200  1.00"
      ]
     },
     "metadata": {},
     "output_type": "display_data"
    }
   ],
   "source": [
    "project_B = '/Users/chibangnguyen/Documents/thuhoach.nckh/ipynb/thuhoach2/interior_design_schedule/Project B-Project B.csv'\n",
    "display(pd.read_csv(project_B))"
   ]
  },
  {
   "cell_type": "markdown",
   "metadata": {},
   "source": [
    "Dự án C:"
   ]
  },
  {
   "cell_type": "code",
   "execution_count": 131,
   "metadata": {},
   "outputs": [
    {
     "data": {
      "text/html": [
       "<div>\n",
       "<style scoped>\n",
       "    .dataframe tbody tr th:only-of-type {\n",
       "        vertical-align: middle;\n",
       "    }\n",
       "\n",
       "    .dataframe tbody tr th {\n",
       "        vertical-align: top;\n",
       "    }\n",
       "\n",
       "    .dataframe thead th {\n",
       "        text-align: right;\n",
       "    }\n",
       "</style>\n",
       "<table border=\"1\" class=\"dataframe\">\n",
       "  <thead>\n",
       "    <tr style=\"text-align: right;\">\n",
       "      <th></th>\n",
       "      <th>name</th>\n",
       "      <th>p</th>\n",
       "      <th>r</th>\n",
       "      <th>d</th>\n",
       "      <th>w</th>\n",
       "    </tr>\n",
       "  </thead>\n",
       "  <tbody>\n",
       "    <tr>\n",
       "      <th>0</th>\n",
       "      <td>Project C - Phát triển ý tưởng</td>\n",
       "      <td>5</td>\n",
       "      <td>0</td>\n",
       "      <td>200</td>\n",
       "      <td>0.85</td>\n",
       "    </tr>\n",
       "    <tr>\n",
       "      <th>1</th>\n",
       "      <td>Project C - Quy hoạch không gian</td>\n",
       "      <td>2</td>\n",
       "      <td>0</td>\n",
       "      <td>200</td>\n",
       "      <td>0.80</td>\n",
       "    </tr>\n",
       "    <tr>\n",
       "      <th>2</th>\n",
       "      <td>Project C - Phát triển thiết kế</td>\n",
       "      <td>4</td>\n",
       "      <td>0</td>\n",
       "      <td>200</td>\n",
       "      <td>0.75</td>\n",
       "    </tr>\n",
       "    <tr>\n",
       "      <th>3</th>\n",
       "      <td>Project C - Lựa chọn vật liệu</td>\n",
       "      <td>6</td>\n",
       "      <td>0</td>\n",
       "      <td>200</td>\n",
       "      <td>0.70</td>\n",
       "    </tr>\n",
       "    <tr>\n",
       "      <th>4</th>\n",
       "      <td>Project C - Tính toán chi phí</td>\n",
       "      <td>1</td>\n",
       "      <td>0</td>\n",
       "      <td>200</td>\n",
       "      <td>0.60</td>\n",
       "    </tr>\n",
       "    <tr>\n",
       "      <th>5</th>\n",
       "      <td>Project C - Xây dựng</td>\n",
       "      <td>15</td>\n",
       "      <td>0</td>\n",
       "      <td>200</td>\n",
       "      <td>0.95</td>\n",
       "    </tr>\n",
       "    <tr>\n",
       "      <th>6</th>\n",
       "      <td>Project C - Lắp đặt</td>\n",
       "      <td>4</td>\n",
       "      <td>0</td>\n",
       "      <td>200</td>\n",
       "      <td>0.70</td>\n",
       "    </tr>\n",
       "    <tr>\n",
       "      <th>7</th>\n",
       "      <td>Project C - Decor</td>\n",
       "      <td>4</td>\n",
       "      <td>0</td>\n",
       "      <td>200</td>\n",
       "      <td>0.85</td>\n",
       "    </tr>\n",
       "    <tr>\n",
       "      <th>8</th>\n",
       "      <td>Project C - Bàn giao</td>\n",
       "      <td>1</td>\n",
       "      <td>0</td>\n",
       "      <td>200</td>\n",
       "      <td>1.00</td>\n",
       "    </tr>\n",
       "  </tbody>\n",
       "</table>\n",
       "</div>"
      ],
      "text/plain": [
       "                               name   p  r    d     w\n",
       "0    Project C - Phát triển ý tưởng   5  0  200  0.85\n",
       "1  Project C - Quy hoạch không gian   2  0  200  0.80\n",
       "2   Project C - Phát triển thiết kế   4  0  200  0.75\n",
       "3     Project C - Lựa chọn vật liệu   6  0  200  0.70\n",
       "4     Project C - Tính toán chi phí   1  0  200  0.60\n",
       "5              Project C - Xây dựng  15  0  200  0.95\n",
       "6               Project C - Lắp đặt   4  0  200  0.70\n",
       "7                 Project C - Decor   4  0  200  0.85\n",
       "8              Project C - Bàn giao   1  0  200  1.00"
      ]
     },
     "metadata": {},
     "output_type": "display_data"
    }
   ],
   "source": [
    "project_C = '/Users/chibangnguyen/Documents/thuhoach.nckh/ipynb/thuhoach2/interior_design_schedule/Project C-Project C.csv'\n",
    "display(pd.read_csv(project_C))"
   ]
  },
  {
   "cell_type": "markdown",
   "metadata": {},
   "source": [
    "Danh sách địa điểm cần thực hiện khảo sát hiện trạng:"
   ]
  },
  {
   "cell_type": "code",
   "execution_count": 132,
   "metadata": {},
   "outputs": [
    {
     "data": {
      "text/html": [
       "<div>\n",
       "<style scoped>\n",
       "    .dataframe tbody tr th:only-of-type {\n",
       "        vertical-align: middle;\n",
       "    }\n",
       "\n",
       "    .dataframe tbody tr th {\n",
       "        vertical-align: top;\n",
       "    }\n",
       "\n",
       "    .dataframe thead th {\n",
       "        text-align: right;\n",
       "    }\n",
       "</style>\n",
       "<table border=\"1\" class=\"dataframe\">\n",
       "  <thead>\n",
       "    <tr style=\"text-align: right;\">\n",
       "      <th></th>\n",
       "      <th>name</th>\n",
       "      <th>p</th>\n",
       "      <th>r</th>\n",
       "      <th>d</th>\n",
       "      <th>w</th>\n",
       "    </tr>\n",
       "  </thead>\n",
       "  <tbody>\n",
       "    <tr>\n",
       "      <th>0</th>\n",
       "      <td>Khảo sát hiện trạng 1</td>\n",
       "      <td>2</td>\n",
       "      <td>0</td>\n",
       "      <td>200</td>\n",
       "      <td>0.33</td>\n",
       "    </tr>\n",
       "    <tr>\n",
       "      <th>1</th>\n",
       "      <td>Khảo sát hiện trạng 2</td>\n",
       "      <td>6</td>\n",
       "      <td>0</td>\n",
       "      <td>200</td>\n",
       "      <td>0.67</td>\n",
       "    </tr>\n",
       "    <tr>\n",
       "      <th>2</th>\n",
       "      <td>Khảo sát hiện trạng 3</td>\n",
       "      <td>5</td>\n",
       "      <td>0</td>\n",
       "      <td>200</td>\n",
       "      <td>0.45</td>\n",
       "    </tr>\n",
       "    <tr>\n",
       "      <th>3</th>\n",
       "      <td>Khảo sát hiện trạng 4</td>\n",
       "      <td>15</td>\n",
       "      <td>0</td>\n",
       "      <td>200</td>\n",
       "      <td>0.85</td>\n",
       "    </tr>\n",
       "    <tr>\n",
       "      <th>4</th>\n",
       "      <td>Khảo sát hiện trạng 5</td>\n",
       "      <td>4</td>\n",
       "      <td>0</td>\n",
       "      <td>200</td>\n",
       "      <td>0.10</td>\n",
       "    </tr>\n",
       "    <tr>\n",
       "      <th>5</th>\n",
       "      <td>Khảo sát hiện trạng 6</td>\n",
       "      <td>4</td>\n",
       "      <td>0</td>\n",
       "      <td>200</td>\n",
       "      <td>0.60</td>\n",
       "    </tr>\n",
       "    <tr>\n",
       "      <th>6</th>\n",
       "      <td>Khảo sát hiện trạng 7</td>\n",
       "      <td>20</td>\n",
       "      <td>0</td>\n",
       "      <td>200</td>\n",
       "      <td>0.70</td>\n",
       "    </tr>\n",
       "  </tbody>\n",
       "</table>\n",
       "</div>"
      ],
      "text/plain": [
       "                    name   p  r    d     w\n",
       "0  Khảo sát hiện trạng 1   2  0  200  0.33\n",
       "1  Khảo sát hiện trạng 2   6  0  200  0.67\n",
       "2  Khảo sát hiện trạng 3   5  0  200  0.45\n",
       "3  Khảo sát hiện trạng 4  15  0  200  0.85\n",
       "4  Khảo sát hiện trạng 5   4  0  200  0.10\n",
       "5  Khảo sát hiện trạng 6   4  0  200  0.60\n",
       "6  Khảo sát hiện trạng 7  20  0  200  0.70"
      ]
     },
     "metadata": {},
     "output_type": "display_data"
    }
   ],
   "source": [
    "survey = '/Users/chibangnguyen/Documents/thuhoach.nckh/ipynb/thuhoach2/interior_design_schedule/Survey-Khảo sát.csv'\n",
    "display(pd.read_csv(survey))"
   ]
  },
  {
   "cell_type": "markdown",
   "metadata": {},
   "source": [
    "Khai báo đường dẫn dữ liệu:"
   ]
  },
  {
   "cell_type": "code",
   "execution_count": 133,
   "metadata": {},
   "outputs": [],
   "source": [
    "original_project = '/Users/chibangnguyen/Documents/thuhoach.nckh/ipynb/thuhoach2/interior_design_schedule'\n",
    "backup_project = '/Users/chibangnguyen/Documents/thuhoach.nckh/ipynb/thuhoach2/interior_design_schedule/backup'"
   ]
  },
  {
   "cell_type": "markdown",
   "metadata": {},
   "source": [
    "Danh sách khảo sát hiện trạng không đòi hỏi hoàn thành tuần tự, nhà thầu có thể khảo sát bất kỳ địa điểm nào trước, do đó danh sách khảo sát có ``prec=0``.\n",
    "\n",
    "Ở danh sách dự án A, B và C yêu cầu công việc nằm sau đòi hỏi các công việc trước đó phải được hoàn thành, do đó, danh sách dự án A, B và C lần lượt đều có ``prec=1``.\n",
    "\n",
    "Ta thiết lập danh sách như sau:"
   ]
  },
  {
   "cell_type": "code",
   "execution_count": 134,
   "metadata": {},
   "outputs": [],
   "source": [
    "lists_project = [\n",
    "    pl.List(file_path=survey, prec=0),\n",
    "    pl.List(file_path=project_A, prec=1),\n",
    "    pl.List(file_path=project_B, prec=1),\n",
    "    pl.List(file_path=project_C, prec=1),\n",
    "]"
   ]
  },
  {
   "cell_type": "markdown",
   "metadata": {},
   "source": [
    "Chạy chương trình:"
   ]
  },
  {
   "cell_type": "code",
   "execution_count": 135,
   "metadata": {},
   "outputs": [
    {
     "name": "stdout",
     "output_type": "stream",
     "text": [
      "['Project A - Phát triển ý tưởng', 4.0, 0, 200, 0.85, 0.2125]\n",
      "['Project A - Quy hoạch không gian', 3.0, 0, 200, 0.8, 0.2357142857142857]\n",
      "['Project C - Phát triển ý tưởng', 5.0, 0, 200, 0.85, 0.16999999999999998]\n",
      "['Project C - Quy hoạch không gian', 2.0, 0, 200, 0.8, 0.2357142857142857]\n",
      "['Project A - Phát triển thiết kế', 5.0, 0, 200, 0.75, 0.15]\n",
      "['Project A - Lựa chọn vật liệu', 2.0, 0, 200, 0.7, 0.20714285714285713]\n",
      "['Project A - Tính toán chi phí', 2.0, 0, 200, 0.6, 0.22777777777777775]\n",
      "['Project A - Xây dựng', 10.0, 0, 200, 0.95, 0.095]\n",
      "['Project A - Lắp đặt', 4.0, 0, 200, 0.7, 0.11785714285714285]\n",
      "['Project A - Decor', 3.0, 0, 200, 0.85, 0.14705882352941177]\n",
      "['Project A - Bàn giao', 1.0, 0, 200, 1.0, 0.19444444444444445]\n",
      "['Project C - Phát triển thiết kế', 4.0, 0, 200, 0.75, 0.1875]\n",
      "['Project C - Lựa chọn vật liệu', 6.0, 0, 200, 0.7, 0.11666666666666665]\n",
      "['Project C - Tính toán chi phí', 1.0, 0, 200, 0.6, 0.1857142857142857]\n",
      "['Khảo sát hiện trạng 1', 2.0, 0, 200, 0.33, 0.165]\n",
      "['Khảo sát hiện trạng 6', 4.0, 0, 200, 0.6, 0.15]\n",
      "['Project C - Xây dựng', 15.0, 0, 200, 0.95, 0.06333333333333332]\n",
      "['Project C - Lắp đặt', 4.0, 0, 200, 0.7, 0.08684210526315789]\n",
      "['Project C - Decor', 4.0, 0, 200, 0.85, 0.10869565217391304]\n",
      "['Project C - Bàn giao', 1.0, 0, 200, 1.0, 0.14583333333333334]\n",
      "['Khảo sát hiện trạng 2', 6.0, 0, 200, 0.67, 0.11166666666666668]\n",
      "['Project B - Phát triển ý tưởng', 8.0, 0, 200, 0.85, 0.10625]\n",
      "['Project B - Quy hoạch không gian', 7.0, 0, 200, 0.8, 0.11]\n",
      "['Khảo sát hiện trạng 3', 5.0, 0, 200, 0.45, 0.09]\n",
      "['Project B - Phát triển thiết kế', 20.0, 0, 200, 0.95, 0.0475]\n",
      "['Project B - Lựa chọn vật liệu', 3.0, 0, 200, 0.7, 0.07173913043478261]\n",
      "['Project B - Tính toán chi phí', 2.0, 0, 200, 0.6, 0.09]\n",
      "['Khảo sát hiện trạng 4', 15.0, 0, 200, 0.85, 0.056666666666666664]\n",
      "['Project B - Xây dựng', 40.0, 0, 200, 0.95, 0.02375]\n",
      "['Project B - Lắp đặt', 15.0, 0, 200, 0.7, 0.03]\n",
      "['Project B - Decor', 9.0, 0, 200, 0.85, 0.0390625]\n",
      "['Project B - Bàn giao', 1.0, 0, 200, 1.0, 0.05384615384615385]\n",
      "['Khảo sát hiện trạng 7', 20.0, 0, 200, 0.7, 0.034999999999999996]\n",
      "['Khảo sát hiện trạng 5', 4.0, 0, 200, 0.1, 0.025]\n"
     ]
    }
   ],
   "source": [
    "for row in tl.optimal_list(lists_project, original_project, backup_project):\n",
    "    print(row)"
   ]
  },
  {
   "cell_type": "code",
   "execution_count": 136,
   "metadata": {},
   "outputs": [],
   "source": [
    "header = ['Name','p','r','d','w','p-factor']\n",
    "output = '/Users/chibangnguyen/Documents/thuhoach.nckh/ipynb/thuhoach2/ouput_project.csv'\n",
    "schedule = tl.optimal_list(lists_project, original_project, backup_project)\n",
    "with open(output, 'w', newline='') as file:\n",
    "    writer = csv.writer(file)\n",
    "    writer.writerow(header)\n",
    "    writer.writerows(schedule)"
   ]
  },
  {
   "cell_type": "code",
   "execution_count": 137,
   "metadata": {},
   "outputs": [],
   "source": [
    "df_project = pd.read_csv(r'/Users/chibangnguyen/Documents/thuhoach.nckh/ipynb/thuhoach2/ouput_project.csv', engine='pyarrow')"
   ]
  },
  {
   "cell_type": "code",
   "execution_count": 138,
   "metadata": {},
   "outputs": [
    {
     "data": {
      "text/plain": [
       "<Axes: title={'center': 'Biểu đồ khoảng thời gian xử lý'}>"
      ]
     },
     "execution_count": 138,
     "metadata": {},
     "output_type": "execute_result"
    },
    {
     "data": {
      "image/png": "[encoded data removed]",
      "text/plain": [
       "<Figure size 640x480 with 1 Axes>"
      ]
     },
     "metadata": {},
     "output_type": "display_data"
    }
   ],
   "source": [
    "df_project['p'].plot(title='Biểu đồ khoảng thời gian xử lý')"
   ]
  },
  {
   "cell_type": "code",
   "execution_count": 139,
   "metadata": {},
   "outputs": [
    {
     "data": {
      "text/plain": [
       "<Axes: title={'center': 'Biểu đồ trọng số công việc'}>"
      ]
     },
     "execution_count": 139,
     "metadata": {},
     "output_type": "execute_result"
    },
    {
     "data": {
      "image/png": "[encoded data removed]",
      "text/plain": [
       "<Figure size 640x480 with 1 Axes>"
      ]
     },
     "metadata": {},
     "output_type": "display_data"
    }
   ],
   "source": [
    "df_project['w'].plot(title='Biểu đồ trọng số công việc')"
   ]
  }
 ],
 "metadata": {
  "kernelspec": {
   "display_name": "Python 3 (ipykernel)",
   "language": "python",
   "name": "python3"
  },
  "language_info": {
   "codemirror_mode": {
    "name": "ipython",
    "version": 3
   },
   "file_extension": ".py",
   "mimetype": "text/x-python",
   "name": "python",
   "nbconvert_exporter": "python",
   "pygments_lexer": "ipython3",
   "version": "3.12.5"
  }
 },
 "nbformat": 4,
 "nbformat_minor": 4
}
